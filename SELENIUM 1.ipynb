{
 "cells": [
  {
   "cell_type": "markdown",
   "id": "0f335209",
   "metadata": {},
   "source": [
    "# Q1: Write a python program to scrape data for “Data Analyst” Job position in “Bangalore” location. You\n",
    "have to scrape the job-title, job-location, company_name, experience_required. You have to scrape first 10\n",
    "jobs data.\n",
    "This task will be done in following steps:\n",
    "1. First get the webpage https://www.shine.com/\n",
    "2. Enter “Data Analyst” in “Job title, Skills” field and enter “Bangalore” in “enter the location” field.\n",
    "3. Then click the search button.\n",
    "4. Then scrape the data for the first 10 jobs results you get.\n",
    "5. Finally create a dataframe of the scraped data."
   ]
  },
  {
   "cell_type": "code",
   "execution_count": 1,
   "id": "4156e919",
   "metadata": {},
   "outputs": [
    {
     "name": "stdout",
     "output_type": "stream",
     "text": [
      "Requirement already satisfied: selenium in c:\\users\\rahul\\anaconda3\\lib\\site-packages (4.17.2)\n",
      "Requirement already satisfied: trio~=0.17 in c:\\users\\rahul\\anaconda3\\lib\\site-packages (from selenium) (0.24.0)\n",
      "Requirement already satisfied: urllib3[socks]<3,>=1.26 in c:\\users\\rahul\\anaconda3\\lib\\site-packages (from selenium) (1.26.14)\n",
      "Requirement already satisfied: certifi>=2021.10.8 in c:\\users\\rahul\\anaconda3\\lib\\site-packages (from selenium) (2022.12.7)\n",
      "Requirement already satisfied: typing_extensions>=4.9.0 in c:\\users\\rahul\\anaconda3\\lib\\site-packages (from selenium) (4.9.0)\n",
      "Requirement already satisfied: trio-websocket~=0.9 in c:\\users\\rahul\\anaconda3\\lib\\site-packages (from selenium) (0.11.1)\n",
      "Requirement already satisfied: sortedcontainers in c:\\users\\rahul\\anaconda3\\lib\\site-packages (from trio~=0.17->selenium) (2.4.0)\n",
      "Requirement already satisfied: sniffio>=1.3.0 in c:\\users\\rahul\\anaconda3\\lib\\site-packages (from trio~=0.17->selenium) (1.3.0)\n",
      "Requirement already satisfied: outcome in c:\\users\\rahul\\anaconda3\\lib\\site-packages (from trio~=0.17->selenium) (1.3.0.post0)\n",
      "Requirement already satisfied: cffi>=1.14 in c:\\users\\rahul\\anaconda3\\lib\\site-packages (from trio~=0.17->selenium) (1.15.1)\n",
      "Requirement already satisfied: attrs>=20.1.0 in c:\\users\\rahul\\anaconda3\\lib\\site-packages (from trio~=0.17->selenium) (22.1.0)\n",
      "Requirement already satisfied: idna in c:\\users\\rahul\\anaconda3\\lib\\site-packages (from trio~=0.17->selenium) (3.4)\n",
      "Requirement already satisfied: exceptiongroup in c:\\users\\rahul\\anaconda3\\lib\\site-packages (from trio~=0.17->selenium) (1.2.0)\n",
      "Requirement already satisfied: wsproto>=0.14 in c:\\users\\rahul\\anaconda3\\lib\\site-packages (from trio-websocket~=0.9->selenium) (1.2.0)\n",
      "Requirement already satisfied: PySocks!=1.5.7,<2.0,>=1.5.6 in c:\\users\\rahul\\anaconda3\\lib\\site-packages (from urllib3[socks]<3,>=1.26->selenium) (1.7.1)\n",
      "Requirement already satisfied: pycparser in c:\\users\\rahul\\anaconda3\\lib\\site-packages (from cffi>=1.14->trio~=0.17->selenium) (2.21)\n",
      "Requirement already satisfied: h11<1,>=0.9.0 in c:\\users\\rahul\\anaconda3\\lib\\site-packages (from wsproto>=0.14->trio-websocket~=0.9->selenium) (0.14.0)\n"
     ]
    }
   ],
   "source": [
    "!pip install selenium"
   ]
  },
  {
   "cell_type": "code",
   "execution_count": 2,
   "id": "43a84fbe",
   "metadata": {},
   "outputs": [
    {
     "ename": "ModuleNotFoundError",
     "evalue": "No module named 'selenuim'",
     "output_type": "error",
     "traceback": [
      "\u001b[1;31m---------------------------------------------------------------------------\u001b[0m",
      "\u001b[1;31mModuleNotFoundError\u001b[0m                       Traceback (most recent call last)",
      "Cell \u001b[1;32mIn[2], line 6\u001b[0m\n\u001b[0;32m      4\u001b[0m \u001b[38;5;28;01mimport\u001b[39;00m \u001b[38;5;21;01mwarnings\u001b[39;00m\n\u001b[0;32m      5\u001b[0m warnings\u001b[38;5;241m.\u001b[39mfilterwarnings(\u001b[38;5;124m'\u001b[39m\u001b[38;5;124mignore\u001b[39m\u001b[38;5;124m'\u001b[39m)\n\u001b[1;32m----> 6\u001b[0m \u001b[38;5;28;01mfrom\u001b[39;00m \u001b[38;5;21;01mselenuim\u001b[39;00m\u001b[38;5;21;01m.\u001b[39;00m\u001b[38;5;21;01mwebdriver\u001b[39;00m\u001b[38;5;21;01m.\u001b[39;00m\u001b[38;5;21;01mcommon\u001b[39;00m\u001b[38;5;21;01m.\u001b[39;00m\u001b[38;5;21;01mby\u001b[39;00m \u001b[38;5;28;01mimport\u001b[39;00m by\n\u001b[0;32m      7\u001b[0m \u001b[38;5;28;01mimport\u001b[39;00m \u001b[38;5;21;01mtime\u001b[39;00m\n",
      "\u001b[1;31mModuleNotFoundError\u001b[0m: No module named 'selenuim'"
     ]
    }
   ],
   "source": [
    "import selenium\n",
    "import pandas as pd\n",
    "from selenium import webdriver \n",
    "import warnings\n",
    "warnings.filterwarnings('ignore')\n",
    "from selenuim.webdriver.common.by import by\n",
    "import time"
   ]
  },
  {
   "cell_type": "code",
   "execution_count": 3,
   "id": "090af39a",
   "metadata": {},
   "outputs": [],
   "source": [
    "import selenium\n",
    "import pandas as pd\n",
    "from selenium import webdriver\n",
    "import warnings\n",
    "from selenium.webdriver.common.by import By\n",
    "import time\n",
    "\n",
    "warnings.filterwarnings('ignore')"
   ]
  },
  {
   "cell_type": "code",
   "execution_count": 4,
   "id": "0c2d2453",
   "metadata": {},
   "outputs": [],
   "source": [
    "driver = webdriver.Chrome();"
   ]
  },
  {
   "cell_type": "code",
   "execution_count": 5,
   "id": "b8d0b10e",
   "metadata": {},
   "outputs": [],
   "source": [
    "driver.get(\"https://www.shine.com/\")"
   ]
  },
  {
   "cell_type": "code",
   "execution_count": 6,
   "id": "1dcc93a4",
   "metadata": {},
   "outputs": [],
   "source": [
    "jobTitle=driver.find_element(By.XPATH,\"//input[@placeholder='Job title, skills']\")\n",
    "jobTitle.send_keys('Data Analyst')"
   ]
  },
  {
   "cell_type": "code",
   "execution_count": 10,
   "id": "ab6b2561",
   "metadata": {},
   "outputs": [],
   "source": [
    "driver.find_element(By.XPATH,\"//input[@placeholder='Job title, skills']\").click()"
   ]
  },
  {
   "cell_type": "code",
   "execution_count": 11,
   "id": "093c7fbe",
   "metadata": {},
   "outputs": [],
   "source": [
    "Title=driver.find_element(By.XPATH,\"//input[@id='id_q']\")\n",
    "Title.send_keys('Data Analyst')"
   ]
  },
  {
   "cell_type": "code",
   "execution_count": 12,
   "id": "80064329",
   "metadata": {},
   "outputs": [],
   "source": [
    "Location = driver.find_element(By.XPATH,\"//input[@id='id_loc']\")\n",
    "Location.send_keys('Bangalore')"
   ]
  },
  {
   "cell_type": "code",
   "execution_count": 13,
   "id": "c16f438a",
   "metadata": {},
   "outputs": [],
   "source": [
    "driver.find_element(By.XPATH,\"//button[text()='Search jobs']\").click()"
   ]
  },
  {
   "cell_type": "code",
   "execution_count": 14,
   "id": "0f3e0d1a",
   "metadata": {},
   "outputs": [
    {
     "data": {
      "text/plain": [
       "'Lead Data Analyst'"
      ]
     },
     "execution_count": 14,
     "metadata": {},
     "output_type": "execute_result"
    }
   ],
   "source": [
    "driver.find_element(By.XPATH, \"//h2[@itemprop='name']/a\").text"
   ]
  },
  {
   "cell_type": "code",
   "execution_count": 15,
   "id": "c062cdc9",
   "metadata": {},
   "outputs": [],
   "source": [
    "JobTitle = []\n",
    "Title=driver.find_elements(By.XPATH, \"//h2[@itemprop='name']/a\")\n",
    "for i in Title:\n",
    "    Title=i.text\n",
    "    JobTitle.append(Title)"
   ]
  },
  {
   "cell_type": "code",
   "execution_count": 16,
   "id": "6dae0ba9",
   "metadata": {},
   "outputs": [
    {
     "data": {
      "text/plain": [
       "['Lead Data Analyst',\n",
       " 'Data Analyst',\n",
       " 'Vacancy For Data Analyst',\n",
       " 'Clinical Data Analyst',\n",
       " 'Data Modeler data',\n",
       " 'Data Modeller',\n",
       " 'Data Modeler Bangalore',\n",
       " 'Data Modeler',\n",
       " 'Clinical Data Analyst',\n",
       " 'Data Analyst Hiring Fresher and Experience']"
      ]
     },
     "execution_count": 16,
     "metadata": {},
     "output_type": "execute_result"
    }
   ],
   "source": [
    "JobTitle[0:10]"
   ]
  },
  {
   "cell_type": "code",
   "execution_count": 17,
   "id": "f09a7558",
   "metadata": {},
   "outputs": [],
   "source": [
    "JobLocation = []\n",
    "Location=driver.find_elements(By.XPATH, \"//div[contains(@class,'jobCard_locationIcon')]\")\n",
    "for i in Location:\n",
    "    Location=i.text\n",
    "    JobLocation.append(Location)"
   ]
  },
  {
   "cell_type": "code",
   "execution_count": 18,
   "id": "20a3a9be",
   "metadata": {},
   "outputs": [
    {
     "data": {
      "text/plain": [
       "['Bangalore',\n",
       " 'Bangalore\\n+3',\n",
       " 'Bangalore\\n+14',\n",
       " 'Bangalore\\n+6',\n",
       " 'Bangalore',\n",
       " 'Bangalore',\n",
       " 'Bangalore',\n",
       " 'Bangalore',\n",
       " 'Bangalore\\n+4',\n",
       " 'Bangalore\\n+13']"
      ]
     },
     "execution_count": 18,
     "metadata": {},
     "output_type": "execute_result"
    }
   ],
   "source": [
    "JobLocation[0:10]"
   ]
  },
  {
   "cell_type": "code",
   "execution_count": 19,
   "id": "b660d261",
   "metadata": {},
   "outputs": [],
   "source": [
    "CompanyName = []\n",
    "company=driver.find_elements(By.XPATH, \"//div[contains(@class,'jobCard_cName')]\")\n",
    "for i in company:\n",
    "    company=i.text\n",
    "    CompanyName.append(company)"
   ]
  },
  {
   "cell_type": "code",
   "execution_count": 20,
   "id": "46b205e6",
   "metadata": {},
   "outputs": [
    {
     "data": {
      "text/plain": [
       "['Ara Resources Private Limited',\n",
       " 'ara resources private limited',\n",
       " 'diraa hr services hiring for mncs',\n",
       " 'yogita staffing solution',\n",
       " 'techno endura',\n",
       " 'boyen haddin consulting and technol...',\n",
       " 'boyen haddin consulting and technol...',\n",
       " 'boyen haddin consulting and technol...',\n",
       " 'boyen haddin consulting and technol...',\n",
       " 'quiscon biotech']"
      ]
     },
     "execution_count": 20,
     "metadata": {},
     "output_type": "execute_result"
    }
   ],
   "source": [
    "CompanyName[0:10]"
   ]
  },
  {
   "cell_type": "code",
   "execution_count": 21,
   "id": "c2fd155d",
   "metadata": {},
   "outputs": [],
   "source": [
    "ExperienceRequired = []\n",
    "experience=driver.find_elements(By.XPATH, \"//div[contains(@class,'YxRkV jobCard_jobIcon')]\")\n",
    "for i in experience:\n",
    "    experience=i.text\n",
    "    ExperienceRequired.append(experience)"
   ]
  },
  {
   "cell_type": "code",
   "execution_count": 22,
   "id": "08da3155",
   "metadata": {},
   "outputs": [
    {
     "data": {
      "text/plain": [
       "['4 to 9 Yrs',\n",
       " '0 to 1 Yr',\n",
       " '0 to 3 Yrs',\n",
       " '0 to 1 Yr',\n",
       " '3 to 6 Yrs',\n",
       " '3 to 6 Yrs',\n",
       " '3 to 6 Yrs',\n",
       " '3 to 6 Yrs',\n",
       " '0 to 2 Yrs',\n",
       " '0 to 4 Yrs']"
      ]
     },
     "execution_count": 22,
     "metadata": {},
     "output_type": "execute_result"
    }
   ],
   "source": [
    "ExperienceRequired[0:10]"
   ]
  },
  {
   "cell_type": "code",
   "execution_count": 146,
   "id": "30e8e814",
   "metadata": {},
   "outputs": [
    {
     "name": "stdout",
     "output_type": "stream",
     "text": [
      "20 20 21 20\n"
     ]
    }
   ],
   "source": [
    "print(len(JobTitle),len(JobLocation),len(CompanyName),len(ExperienceRequired))"
   ]
  },
  {
   "cell_type": "code",
   "execution_count": 23,
   "id": "841e10fa",
   "metadata": {},
   "outputs": [
    {
     "data": {
      "text/html": [
       "<div>\n",
       "<style scoped>\n",
       "    .dataframe tbody tr th:only-of-type {\n",
       "        vertical-align: middle;\n",
       "    }\n",
       "\n",
       "    .dataframe tbody tr th {\n",
       "        vertical-align: top;\n",
       "    }\n",
       "\n",
       "    .dataframe thead th {\n",
       "        text-align: right;\n",
       "    }\n",
       "</style>\n",
       "<table border=\"1\" class=\"dataframe\">\n",
       "  <thead>\n",
       "    <tr style=\"text-align: right;\">\n",
       "      <th></th>\n",
       "      <th>TITLE</th>\n",
       "      <th>LOCATION</th>\n",
       "      <th>EXPERIENCE</th>\n",
       "    </tr>\n",
       "  </thead>\n",
       "  <tbody>\n",
       "    <tr>\n",
       "      <th>0</th>\n",
       "      <td>Lead Data Analyst</td>\n",
       "      <td>Bangalore</td>\n",
       "      <td>4 to 9 Yrs</td>\n",
       "    </tr>\n",
       "    <tr>\n",
       "      <th>1</th>\n",
       "      <td>Data Analyst</td>\n",
       "      <td>Bangalore\\n+3</td>\n",
       "      <td>0 to 1 Yr</td>\n",
       "    </tr>\n",
       "    <tr>\n",
       "      <th>2</th>\n",
       "      <td>Vacancy For Data Analyst</td>\n",
       "      <td>Bangalore\\n+14</td>\n",
       "      <td>0 to 3 Yrs</td>\n",
       "    </tr>\n",
       "    <tr>\n",
       "      <th>3</th>\n",
       "      <td>Clinical Data Analyst</td>\n",
       "      <td>Bangalore\\n+6</td>\n",
       "      <td>0 to 1 Yr</td>\n",
       "    </tr>\n",
       "    <tr>\n",
       "      <th>4</th>\n",
       "      <td>Data Modeler data</td>\n",
       "      <td>Bangalore</td>\n",
       "      <td>3 to 6 Yrs</td>\n",
       "    </tr>\n",
       "    <tr>\n",
       "      <th>5</th>\n",
       "      <td>Data Modeller</td>\n",
       "      <td>Bangalore</td>\n",
       "      <td>3 to 6 Yrs</td>\n",
       "    </tr>\n",
       "    <tr>\n",
       "      <th>6</th>\n",
       "      <td>Data Modeler Bangalore</td>\n",
       "      <td>Bangalore</td>\n",
       "      <td>3 to 6 Yrs</td>\n",
       "    </tr>\n",
       "    <tr>\n",
       "      <th>7</th>\n",
       "      <td>Data Modeler</td>\n",
       "      <td>Bangalore</td>\n",
       "      <td>3 to 6 Yrs</td>\n",
       "    </tr>\n",
       "    <tr>\n",
       "      <th>8</th>\n",
       "      <td>Clinical Data Analyst</td>\n",
       "      <td>Bangalore\\n+4</td>\n",
       "      <td>0 to 2 Yrs</td>\n",
       "    </tr>\n",
       "    <tr>\n",
       "      <th>9</th>\n",
       "      <td>Data Analyst Hiring Fresher and Experience</td>\n",
       "      <td>Bangalore\\n+13</td>\n",
       "      <td>0 to 4 Yrs</td>\n",
       "    </tr>\n",
       "    <tr>\n",
       "      <th>10</th>\n",
       "      <td>Data Analyst Hiring Fresher and Experience</td>\n",
       "      <td>Bangalore\\n+13</td>\n",
       "      <td>0 to 4 Yrs</td>\n",
       "    </tr>\n",
       "    <tr>\n",
       "      <th>11</th>\n",
       "      <td>Data Engineer-OBIEE</td>\n",
       "      <td>Bangalore\\n+1</td>\n",
       "      <td>5 to 10 Yrs</td>\n",
       "    </tr>\n",
       "    <tr>\n",
       "      <th>12</th>\n",
       "      <td>Data Analyst Recruitment</td>\n",
       "      <td>Bangalore\\n+13</td>\n",
       "      <td>0 to 4 Yrs</td>\n",
       "    </tr>\n",
       "    <tr>\n",
       "      <th>13</th>\n",
       "      <td>Data Modeler</td>\n",
       "      <td>Bangalore\\n+6</td>\n",
       "      <td>5 to 10 Yrs</td>\n",
       "    </tr>\n",
       "    <tr>\n",
       "      <th>14</th>\n",
       "      <td>Data typing/computer operator/work from home/p...</td>\n",
       "      <td>Bangalore</td>\n",
       "      <td>0 to 4 Yrs</td>\n",
       "    </tr>\n",
       "    <tr>\n",
       "      <th>15</th>\n",
       "      <td>Clinical Data Analyst</td>\n",
       "      <td>Bangalore\\n+6</td>\n",
       "      <td>0 to 1 Yr</td>\n",
       "    </tr>\n",
       "    <tr>\n",
       "      <th>16</th>\n",
       "      <td>Data Modeler Bangalore</td>\n",
       "      <td>Bangalore</td>\n",
       "      <td>3 to 6 Yrs</td>\n",
       "    </tr>\n",
       "    <tr>\n",
       "      <th>17</th>\n",
       "      <td>Vacancy For Data Scientist Fresher and Experience</td>\n",
       "      <td>Bangalore\\n+14</td>\n",
       "      <td>0 to 3 Yrs</td>\n",
       "    </tr>\n",
       "    <tr>\n",
       "      <th>18</th>\n",
       "      <td>Data Intelligence Analyst</td>\n",
       "      <td>Bangalore\\n+6</td>\n",
       "      <td>0 to 1 Yr</td>\n",
       "    </tr>\n",
       "    <tr>\n",
       "      <th>19</th>\n",
       "      <td>Analytics Manager</td>\n",
       "      <td>Bangalore\\n+9</td>\n",
       "      <td>15 to &gt;25 Yrs</td>\n",
       "    </tr>\n",
       "  </tbody>\n",
       "</table>\n",
       "</div>"
      ],
      "text/plain": [
       "                                                TITLE        LOCATION  \\\n",
       "0                                   Lead Data Analyst       Bangalore   \n",
       "1                                        Data Analyst   Bangalore\\n+3   \n",
       "2                            Vacancy For Data Analyst  Bangalore\\n+14   \n",
       "3                               Clinical Data Analyst   Bangalore\\n+6   \n",
       "4                                   Data Modeler data       Bangalore   \n",
       "5                                       Data Modeller       Bangalore   \n",
       "6                              Data Modeler Bangalore       Bangalore   \n",
       "7                                        Data Modeler       Bangalore   \n",
       "8                               Clinical Data Analyst   Bangalore\\n+4   \n",
       "9          Data Analyst Hiring Fresher and Experience  Bangalore\\n+13   \n",
       "10         Data Analyst Hiring Fresher and Experience  Bangalore\\n+13   \n",
       "11                                Data Engineer-OBIEE   Bangalore\\n+1   \n",
       "12                           Data Analyst Recruitment  Bangalore\\n+13   \n",
       "13                                       Data Modeler   Bangalore\\n+6   \n",
       "14  Data typing/computer operator/work from home/p...       Bangalore   \n",
       "15                              Clinical Data Analyst   Bangalore\\n+6   \n",
       "16                             Data Modeler Bangalore       Bangalore   \n",
       "17  Vacancy For Data Scientist Fresher and Experience  Bangalore\\n+14   \n",
       "18                          Data Intelligence Analyst   Bangalore\\n+6   \n",
       "19                                  Analytics Manager   Bangalore\\n+9   \n",
       "\n",
       "       EXPERIENCE  \n",
       "0      4 to 9 Yrs  \n",
       "1       0 to 1 Yr  \n",
       "2      0 to 3 Yrs  \n",
       "3       0 to 1 Yr  \n",
       "4      3 to 6 Yrs  \n",
       "5      3 to 6 Yrs  \n",
       "6      3 to 6 Yrs  \n",
       "7      3 to 6 Yrs  \n",
       "8      0 to 2 Yrs  \n",
       "9      0 to 4 Yrs  \n",
       "10     0 to 4 Yrs  \n",
       "11    5 to 10 Yrs  \n",
       "12     0 to 4 Yrs  \n",
       "13    5 to 10 Yrs  \n",
       "14     0 to 4 Yrs  \n",
       "15      0 to 1 Yr  \n",
       "16     3 to 6 Yrs  \n",
       "17     0 to 3 Yrs  \n",
       "18      0 to 1 Yr  \n",
       "19  15 to >25 Yrs  "
      ]
     },
     "execution_count": 23,
     "metadata": {},
     "output_type": "execute_result"
    }
   ],
   "source": [
    "import pandas as pd\n",
    "df=pd.DataFrame({'TITLE':JobTitle,'LOCATION':JobLocation,'EXPERIENCE':ExperienceRequired})\n",
    "df"
   ]
  },
  {
   "cell_type": "markdown",
   "id": "59719f23",
   "metadata": {},
   "source": [
    "# Q2: Write a python program to scrape data for “Data Scientist” Job position in “Bangalore” location. You\n",
    "have to scrape the job-title, job-location, company_name. You have to scrape first 10 jobs data.\n",
    "This task will be done in following steps:\n",
    "1. First get the webpage https://www.shine.com/\n",
    "2. Enter “Data Scientist” in “Job title, Skills” field and enter “Bangalore” in “enter the location” field.\n",
    "3. Then click the search button.\n",
    "4. Then scrape the data for the first 10 jobs results you get.\n",
    "5. Finally create a dataframe of the scraped data"
   ]
  },
  {
   "cell_type": "code",
   "execution_count": 25,
   "id": "bf0601c7",
   "metadata": {},
   "outputs": [],
   "source": [
    "driver = webdriver.Chrome();"
   ]
  },
  {
   "cell_type": "code",
   "execution_count": 26,
   "id": "4c59f2a2",
   "metadata": {},
   "outputs": [],
   "source": [
    "driver.get(\"https://www.shine.com/\")"
   ]
  },
  {
   "cell_type": "code",
   "execution_count": 27,
   "id": "0b146faa",
   "metadata": {},
   "outputs": [],
   "source": [
    "jobTitle=driver.find_element(By.XPATH,\"//input[@placeholder='Job title, skills']\")\n",
    "jobTitle.send_keys('Data Scientist')"
   ]
  },
  {
   "cell_type": "code",
   "execution_count": 29,
   "id": "ca1b7a77",
   "metadata": {},
   "outputs": [],
   "source": [
    "driver.find_element(By.XPATH,\"//input[@placeholder='Job title, skills']\").click()"
   ]
  },
  {
   "cell_type": "code",
   "execution_count": 30,
   "id": "36ff842b",
   "metadata": {},
   "outputs": [],
   "source": [
    "Title=driver.find_element(By.XPATH,\"//input[@id='id_q']\")\n",
    "Title.send_keys('Data Scientist')"
   ]
  },
  {
   "cell_type": "code",
   "execution_count": 31,
   "id": "3039af5c",
   "metadata": {},
   "outputs": [],
   "source": [
    "Location = driver.find_element(By.XPATH,\"//input[@id='id_loc']\")\n",
    "Location.send_keys('Bangalore')"
   ]
  },
  {
   "cell_type": "code",
   "execution_count": 32,
   "id": "b6f69a6e",
   "metadata": {},
   "outputs": [],
   "source": [
    "driver.find_element(By.XPATH,\"//button[text()='Search jobs']\").click()"
   ]
  },
  {
   "cell_type": "code",
   "execution_count": 33,
   "id": "c07fb6c7",
   "metadata": {},
   "outputs": [],
   "source": [
    "JobTitle = []\n",
    "Title=driver.find_elements(By.XPATH, \"//h2[@itemprop='name']/a\")\n",
    "for i in Title:\n",
    "    Title=i.text\n",
    "    JobTitle.append(Title)"
   ]
  },
  {
   "cell_type": "code",
   "execution_count": 34,
   "id": "ce8d5bc8",
   "metadata": {},
   "outputs": [
    {
     "data": {
      "text/plain": [
       "['Data Scientist Recruitment',\n",
       " 'Data Scientist Recruitment',\n",
       " 'Data Scientist',\n",
       " 'Data Scientist',\n",
       " 'Lead Data Scientist/ Principal Data Scientist',\n",
       " 'Senior Data Scientist',\n",
       " 'Vacancy For Data Scientist Fresher and Experience',\n",
       " 'Lead Data Scientist',\n",
       " 'Data Scientist',\n",
       " 'Data Scientist Urgent Vacancy']"
      ]
     },
     "execution_count": 34,
     "metadata": {},
     "output_type": "execute_result"
    }
   ],
   "source": [
    "JobTitle[0:10]"
   ]
  },
  {
   "cell_type": "code",
   "execution_count": 35,
   "id": "081b0676",
   "metadata": {},
   "outputs": [],
   "source": [
    "JobLocation = []\n",
    "Location=driver.find_elements(By.XPATH, \"//div[contains(@class,'jobCard_locationIcon')]\")\n",
    "for i in Location:\n",
    "    Location=i.text\n",
    "    JobLocation.append(Location)"
   ]
  },
  {
   "cell_type": "code",
   "execution_count": 36,
   "id": "3ea2efdd",
   "metadata": {},
   "outputs": [
    {
     "data": {
      "text/plain": [
       "['Bangalore\\n+15',\n",
       " 'Bangalore\\n+15',\n",
       " 'Bangalore\\n+4',\n",
       " 'Bangalore',\n",
       " 'Bangalore\\n+1',\n",
       " 'Bangalore\\n+1',\n",
       " 'Bangalore\\n+14',\n",
       " 'Bangalore\\n+1',\n",
       " 'Bangalore\\n+7',\n",
       " 'Bangalore\\n+14']"
      ]
     },
     "execution_count": 36,
     "metadata": {},
     "output_type": "execute_result"
    }
   ],
   "source": [
    "JobLocation[0:10]"
   ]
  },
  {
   "cell_type": "code",
   "execution_count": 37,
   "id": "84eb18d3",
   "metadata": {},
   "outputs": [],
   "source": [
    "CompanyName = []\n",
    "company=driver.find_elements(By.XPATH, \"//div[contains(@class,'jobCard_cName')]\")\n",
    "for i in company:\n",
    "    company=i.text\n",
    "    CompanyName.append(company)"
   ]
  },
  {
   "cell_type": "code",
   "execution_count": 38,
   "id": "4441109b",
   "metadata": {},
   "outputs": [
    {
     "data": {
      "text/plain": [
       "['RENUKA INTERPRISES',\n",
       " 'renuka interprises',\n",
       " 'renuka interprises',\n",
       " 'acme services private limited',\n",
       " 'ltimindtree limited',\n",
       " 'fractal',\n",
       " 'neostats',\n",
       " 'yogita staffing solution',\n",
       " 'aereo',\n",
       " 'people staffing solutions']"
      ]
     },
     "execution_count": 38,
     "metadata": {},
     "output_type": "execute_result"
    }
   ],
   "source": [
    "CompanyName[0:10]"
   ]
  },
  {
   "cell_type": "code",
   "execution_count": 39,
   "id": "264cb7a2",
   "metadata": {},
   "outputs": [],
   "source": [
    "ExperienceRequired = []\n",
    "experience=driver.find_elements(By.XPATH, \"//div[contains(@class,'YxRkV jobCard_jobIcon')]\")\n",
    "for i in experience:\n",
    "    experience=i.text\n",
    "    ExperienceRequired.append(experience)"
   ]
  },
  {
   "cell_type": "code",
   "execution_count": 40,
   "id": "9f32658b",
   "metadata": {},
   "outputs": [
    {
     "data": {
      "text/plain": [
       "['0 to 4 Yrs',\n",
       " '0 to 4 Yrs',\n",
       " '3 to 5 Yrs',\n",
       " '6 to 8 Yrs',\n",
       " '5 to 9 Yrs',\n",
       " '7 to 11 Yrs',\n",
       " '0 to 3 Yrs',\n",
       " '7 to 10 Yrs',\n",
       " '4 to 9 Yrs',\n",
       " '0 to 3 Yrs']"
      ]
     },
     "execution_count": 40,
     "metadata": {},
     "output_type": "execute_result"
    }
   ],
   "source": [
    "ExperienceRequired[0:10]"
   ]
  },
  {
   "cell_type": "code",
   "execution_count": 41,
   "id": "447f2a0f",
   "metadata": {},
   "outputs": [
    {
     "data": {
      "text/html": [
       "<div>\n",
       "<style scoped>\n",
       "    .dataframe tbody tr th:only-of-type {\n",
       "        vertical-align: middle;\n",
       "    }\n",
       "\n",
       "    .dataframe tbody tr th {\n",
       "        vertical-align: top;\n",
       "    }\n",
       "\n",
       "    .dataframe thead th {\n",
       "        text-align: right;\n",
       "    }\n",
       "</style>\n",
       "<table border=\"1\" class=\"dataframe\">\n",
       "  <thead>\n",
       "    <tr style=\"text-align: right;\">\n",
       "      <th></th>\n",
       "      <th>TITLE</th>\n",
       "      <th>LOCATION</th>\n",
       "      <th>EXPERIENCE</th>\n",
       "    </tr>\n",
       "  </thead>\n",
       "  <tbody>\n",
       "    <tr>\n",
       "      <th>0</th>\n",
       "      <td>Data Scientist Recruitment</td>\n",
       "      <td>Bangalore\\n+15</td>\n",
       "      <td>0 to 4 Yrs</td>\n",
       "    </tr>\n",
       "    <tr>\n",
       "      <th>1</th>\n",
       "      <td>Data Scientist Recruitment</td>\n",
       "      <td>Bangalore\\n+15</td>\n",
       "      <td>0 to 4 Yrs</td>\n",
       "    </tr>\n",
       "    <tr>\n",
       "      <th>2</th>\n",
       "      <td>Data Scientist</td>\n",
       "      <td>Bangalore\\n+4</td>\n",
       "      <td>3 to 5 Yrs</td>\n",
       "    </tr>\n",
       "    <tr>\n",
       "      <th>3</th>\n",
       "      <td>Data Scientist</td>\n",
       "      <td>Bangalore</td>\n",
       "      <td>6 to 8 Yrs</td>\n",
       "    </tr>\n",
       "    <tr>\n",
       "      <th>4</th>\n",
       "      <td>Lead Data Scientist/ Principal Data Scientist</td>\n",
       "      <td>Bangalore\\n+1</td>\n",
       "      <td>5 to 9 Yrs</td>\n",
       "    </tr>\n",
       "    <tr>\n",
       "      <th>5</th>\n",
       "      <td>Senior Data Scientist</td>\n",
       "      <td>Bangalore\\n+1</td>\n",
       "      <td>7 to 11 Yrs</td>\n",
       "    </tr>\n",
       "    <tr>\n",
       "      <th>6</th>\n",
       "      <td>Vacancy For Data Scientist Fresher and Experience</td>\n",
       "      <td>Bangalore\\n+14</td>\n",
       "      <td>0 to 3 Yrs</td>\n",
       "    </tr>\n",
       "    <tr>\n",
       "      <th>7</th>\n",
       "      <td>Lead Data Scientist</td>\n",
       "      <td>Bangalore\\n+1</td>\n",
       "      <td>7 to 10 Yrs</td>\n",
       "    </tr>\n",
       "    <tr>\n",
       "      <th>8</th>\n",
       "      <td>Data Scientist</td>\n",
       "      <td>Bangalore\\n+7</td>\n",
       "      <td>4 to 9 Yrs</td>\n",
       "    </tr>\n",
       "    <tr>\n",
       "      <th>9</th>\n",
       "      <td>Data Scientist Urgent Vacancy</td>\n",
       "      <td>Bangalore\\n+14</td>\n",
       "      <td>0 to 3 Yrs</td>\n",
       "    </tr>\n",
       "    <tr>\n",
       "      <th>10</th>\n",
       "      <td>Data Scientist</td>\n",
       "      <td>Bangalore\\n+2</td>\n",
       "      <td>0 to 4 Yrs</td>\n",
       "    </tr>\n",
       "    <tr>\n",
       "      <th>11</th>\n",
       "      <td>Pharma Data Scientist</td>\n",
       "      <td>Bangalore\\n+4</td>\n",
       "      <td>0 to 1 Yr</td>\n",
       "    </tr>\n",
       "    <tr>\n",
       "      <th>12</th>\n",
       "      <td>Hiring For Data Scientist</td>\n",
       "      <td>Bangalore\\n+13</td>\n",
       "      <td>0 to 3 Yrs</td>\n",
       "    </tr>\n",
       "    <tr>\n",
       "      <th>13</th>\n",
       "      <td>Hiring For Data Scientist</td>\n",
       "      <td>Bangalore\\n+14</td>\n",
       "      <td>0 to 3 Yrs</td>\n",
       "    </tr>\n",
       "    <tr>\n",
       "      <th>14</th>\n",
       "      <td>Data Scientist Urgent Vacancy</td>\n",
       "      <td>Bangalore\\n+13</td>\n",
       "      <td>0 to 4 Yrs</td>\n",
       "    </tr>\n",
       "    <tr>\n",
       "      <th>15</th>\n",
       "      <td>Data Scientist Recruitment</td>\n",
       "      <td>Bangalore\\n+13</td>\n",
       "      <td>0 to 4 Yrs</td>\n",
       "    </tr>\n",
       "    <tr>\n",
       "      <th>16</th>\n",
       "      <td>Data scientist</td>\n",
       "      <td>Bangalore\\n+8</td>\n",
       "      <td>6 to 11 Yrs</td>\n",
       "    </tr>\n",
       "    <tr>\n",
       "      <th>17</th>\n",
       "      <td>Data Scientist</td>\n",
       "      <td>Bangalore</td>\n",
       "      <td>1 to 2 Yrs</td>\n",
       "    </tr>\n",
       "    <tr>\n",
       "      <th>18</th>\n",
       "      <td>Data Engineer-OBIEE</td>\n",
       "      <td>Bangalore\\n+1</td>\n",
       "      <td>5 to 10 Yrs</td>\n",
       "    </tr>\n",
       "    <tr>\n",
       "      <th>19</th>\n",
       "      <td>Data Scientist</td>\n",
       "      <td>Bangalore</td>\n",
       "      <td>0 to 2 Yrs</td>\n",
       "    </tr>\n",
       "  </tbody>\n",
       "</table>\n",
       "</div>"
      ],
      "text/plain": [
       "                                                TITLE        LOCATION  \\\n",
       "0                          Data Scientist Recruitment  Bangalore\\n+15   \n",
       "1                          Data Scientist Recruitment  Bangalore\\n+15   \n",
       "2                                      Data Scientist   Bangalore\\n+4   \n",
       "3                                      Data Scientist       Bangalore   \n",
       "4       Lead Data Scientist/ Principal Data Scientist   Bangalore\\n+1   \n",
       "5                               Senior Data Scientist   Bangalore\\n+1   \n",
       "6   Vacancy For Data Scientist Fresher and Experience  Bangalore\\n+14   \n",
       "7                                 Lead Data Scientist   Bangalore\\n+1   \n",
       "8                                      Data Scientist   Bangalore\\n+7   \n",
       "9                       Data Scientist Urgent Vacancy  Bangalore\\n+14   \n",
       "10                                     Data Scientist   Bangalore\\n+2   \n",
       "11                              Pharma Data Scientist   Bangalore\\n+4   \n",
       "12                          Hiring For Data Scientist  Bangalore\\n+13   \n",
       "13                          Hiring For Data Scientist  Bangalore\\n+14   \n",
       "14                      Data Scientist Urgent Vacancy  Bangalore\\n+13   \n",
       "15                         Data Scientist Recruitment  Bangalore\\n+13   \n",
       "16                                     Data scientist   Bangalore\\n+8   \n",
       "17                                     Data Scientist       Bangalore   \n",
       "18                                Data Engineer-OBIEE   Bangalore\\n+1   \n",
       "19                                     Data Scientist       Bangalore   \n",
       "\n",
       "     EXPERIENCE  \n",
       "0    0 to 4 Yrs  \n",
       "1    0 to 4 Yrs  \n",
       "2    3 to 5 Yrs  \n",
       "3    6 to 8 Yrs  \n",
       "4    5 to 9 Yrs  \n",
       "5   7 to 11 Yrs  \n",
       "6    0 to 3 Yrs  \n",
       "7   7 to 10 Yrs  \n",
       "8    4 to 9 Yrs  \n",
       "9    0 to 3 Yrs  \n",
       "10   0 to 4 Yrs  \n",
       "11    0 to 1 Yr  \n",
       "12   0 to 3 Yrs  \n",
       "13   0 to 3 Yrs  \n",
       "14   0 to 4 Yrs  \n",
       "15   0 to 4 Yrs  \n",
       "16  6 to 11 Yrs  \n",
       "17   1 to 2 Yrs  \n",
       "18  5 to 10 Yrs  \n",
       "19   0 to 2 Yrs  "
      ]
     },
     "execution_count": 41,
     "metadata": {},
     "output_type": "execute_result"
    }
   ],
   "source": [
    "import pandas as pd\n",
    "df=pd.DataFrame({'TITLE':JobTitle,'LOCATION':JobLocation,'EXPERIENCE':ExperienceRequired})\n",
    "df"
   ]
  },
  {
   "cell_type": "markdown",
   "id": "5514dcd5",
   "metadata": {},
   "source": [
    "# Q3: In this question you have to scrape data using the filters available on the webpage\n",
    "You have to use the location and salary filter.\n",
    "You have to scrape data for “Data Scientist” designation for first 10 job results.\n",
    "You have to scrape the job-title, job-location, company name, experience required.\n",
    "The location filter to be used is “Delhi/NCR”. The salary filter to be used is “3-6” lakhs\n",
    "The task will be done as shown in the below steps:\n",
    "1. first get the web page https://www.shine.com/\n",
    "2. Enter “Data Scientist” in “Skill, Designations, and Companies” field.\n",
    "3. Then click the search button.\n",
    "4. Then apply the location filter and salary filter by checking the respective boxes\n",
    "5. Then scrape the data for the first 10 jobs results you get.\n",
    "6. Finally create a dataframe of the scraped data."
   ]
  },
  {
   "cell_type": "code",
   "execution_count": 42,
   "id": "8b9dbdbb",
   "metadata": {},
   "outputs": [],
   "source": [
    "driver = webdriver.Chrome();"
   ]
  },
  {
   "cell_type": "code",
   "execution_count": 43,
   "id": "e5e9231d",
   "metadata": {},
   "outputs": [],
   "source": [
    "driver.get(\"https://www.shine.com/\")"
   ]
  },
  {
   "cell_type": "code",
   "execution_count": 44,
   "id": "2a224c7b",
   "metadata": {},
   "outputs": [],
   "source": [
    "jobTitle=driver.find_element(By.XPATH,\"//input[@placeholder='Job title, skills']\")\n",
    "jobTitle.send_keys('Data Scientist')"
   ]
  },
  {
   "cell_type": "code",
   "execution_count": 45,
   "id": "4bb6c7c2",
   "metadata": {},
   "outputs": [],
   "source": [
    "driver.find_element(By.XPATH,\"//input[@placeholder='Job title, skills']\").click()"
   ]
  },
  {
   "cell_type": "code",
   "execution_count": 46,
   "id": "175415a5",
   "metadata": {},
   "outputs": [],
   "source": [
    "Title=driver.find_element(By.XPATH,\"//input[@id='id_q']\")\n",
    "Title.send_keys('Data Scientist')"
   ]
  },
  {
   "cell_type": "code",
   "execution_count": 47,
   "id": "4d066750",
   "metadata": {},
   "outputs": [],
   "source": [
    "Location = driver.find_element(By.XPATH,\"//input[@id='id_loc']\")\n",
    "Location.send_keys('Delhi/NCR')"
   ]
  },
  {
   "cell_type": "code",
   "execution_count": 48,
   "id": "af8d908e",
   "metadata": {},
   "outputs": [],
   "source": [
    "driver.find_element(By.XPATH,\"//button[text()='Search jobs']\").click()"
   ]
  },
  {
   "cell_type": "code",
   "execution_count": 49,
   "id": "0a89349d",
   "metadata": {},
   "outputs": [],
   "source": [
    "JobTitle = []\n",
    "Title=driver.find_elements(By.XPATH, \"//h2[@itemprop='name']/a\")\n",
    "for i in Title:\n",
    "    Title=i.text\n",
    "    JobTitle.append(Title)"
   ]
  },
  {
   "cell_type": "code",
   "execution_count": 50,
   "id": "bee79695",
   "metadata": {},
   "outputs": [
    {
     "data": {
      "text/plain": [
       "['Data Scientist | Senior Data Scientist Chennai',\n",
       " 'Data Scientist/Data Analyst-17740',\n",
       " 'Data Scientist',\n",
       " 'Data Scientist /Quantitative Equity Researcher 2',\n",
       " 'Data Scientist',\n",
       " 'Data Scientist',\n",
       " 'Data Scientist',\n",
       " 'Data Scientist',\n",
       " 'Data Scientist II, GPS India Operations T500-10229',\n",
       " 'Lead Data Scientist']"
      ]
     },
     "execution_count": 50,
     "metadata": {},
     "output_type": "execute_result"
    }
   ],
   "source": [
    "JobTitle[0:10]"
   ]
  },
  {
   "cell_type": "code",
   "execution_count": 51,
   "id": "39dc909b",
   "metadata": {},
   "outputs": [],
   "source": [
    "JobLocation = []\n",
    "Location=driver.find_elements(By.XPATH, \"//div[contains(@class,'jobCard_locationIcon')]\")\n",
    "for i in Location:\n",
    "    Location=i.text\n",
    "    JobLocation.append(Location)"
   ]
  },
  {
   "cell_type": "code",
   "execution_count": 52,
   "id": "0ed17772",
   "metadata": {},
   "outputs": [
    {
     "data": {
      "text/plain": [
       "['Chennai',\n",
       " 'All India',\n",
       " 'All India',\n",
       " 'Other Maharashtra',\n",
       " 'Hyderabad\\n+1',\n",
       " 'Other Haryana',\n",
       " 'All India',\n",
       " 'Other Karnataka',\n",
       " 'Hyderabad\\n+1',\n",
       " 'Other Karnataka']"
      ]
     },
     "execution_count": 52,
     "metadata": {},
     "output_type": "execute_result"
    }
   ],
   "source": [
    "JobLocation[0:10]"
   ]
  },
  {
   "cell_type": "code",
   "execution_count": 53,
   "id": "2ea3a991",
   "metadata": {},
   "outputs": [],
   "source": [
    "CompanyName = []\n",
    "company=driver.find_elements(By.XPATH, \"//div[contains(@class,'jobCard_cName')]\")\n",
    "for i in company:\n",
    "    company=i.text\n",
    "    CompanyName.append(company)"
   ]
  },
  {
   "cell_type": "code",
   "execution_count": 54,
   "id": "464e2039",
   "metadata": {},
   "outputs": [
    {
     "data": {
      "text/plain": [
       "['Talent Leads HR Solutions Pvt Ltd',\n",
       " 'talent leads hr solutions pvt ltd',\n",
       " 'gemraj technologies ltd',\n",
       " 'mindshift analytics',\n",
       " 'pinebridge investments',\n",
       " 'neuzen ai',\n",
       " 'signify',\n",
       " 'smarthelio',\n",
       " 'cropin',\n",
       " 'bristol myers squibb']"
      ]
     },
     "execution_count": 54,
     "metadata": {},
     "output_type": "execute_result"
    }
   ],
   "source": [
    "CompanyName[0:10]"
   ]
  },
  {
   "cell_type": "code",
   "execution_count": 55,
   "id": "c85a60ca",
   "metadata": {},
   "outputs": [],
   "source": [
    "ExperienceRequired = []\n",
    "experience=driver.find_elements(By.XPATH, \"//div[contains(@class,'YxRkV jobCard_jobIcon')]\")\n",
    "for i in experience:\n",
    "    experience=i.text\n",
    "    ExperienceRequired.append(experience)"
   ]
  },
  {
   "cell_type": "code",
   "execution_count": 56,
   "id": "178f167c",
   "metadata": {},
   "outputs": [
    {
     "data": {
      "text/plain": [
       "['8 to 13 Yrs',\n",
       " '3 to 7 Yrs',\n",
       " '3 to 7 Yrs',\n",
       " '0 to 7 Yrs',\n",
       " '1 to 2 Yrs',\n",
       " '5 to 9 Yrs',\n",
       " '3 to 7 Yrs',\n",
       " '2 to 6 Yrs',\n",
       " '3 to 5 Yrs',\n",
       " '5 to 9 Yrs']"
      ]
     },
     "execution_count": 56,
     "metadata": {},
     "output_type": "execute_result"
    }
   ],
   "source": [
    "ExperienceRequired[0:10]"
   ]
  },
  {
   "cell_type": "code",
   "execution_count": 57,
   "id": "3aff6ab7",
   "metadata": {},
   "outputs": [
    {
     "data": {
      "text/html": [
       "<div>\n",
       "<style scoped>\n",
       "    .dataframe tbody tr th:only-of-type {\n",
       "        vertical-align: middle;\n",
       "    }\n",
       "\n",
       "    .dataframe tbody tr th {\n",
       "        vertical-align: top;\n",
       "    }\n",
       "\n",
       "    .dataframe thead th {\n",
       "        text-align: right;\n",
       "    }\n",
       "</style>\n",
       "<table border=\"1\" class=\"dataframe\">\n",
       "  <thead>\n",
       "    <tr style=\"text-align: right;\">\n",
       "      <th></th>\n",
       "      <th>TITLE</th>\n",
       "      <th>LOCATION</th>\n",
       "      <th>EXPERIENCE</th>\n",
       "    </tr>\n",
       "  </thead>\n",
       "  <tbody>\n",
       "    <tr>\n",
       "      <th>0</th>\n",
       "      <td>Data Scientist | Senior Data Scientist Chennai</td>\n",
       "      <td>Chennai</td>\n",
       "      <td>8 to 13 Yrs</td>\n",
       "    </tr>\n",
       "    <tr>\n",
       "      <th>1</th>\n",
       "      <td>Data Scientist/Data Analyst-17740</td>\n",
       "      <td>All India</td>\n",
       "      <td>3 to 7 Yrs</td>\n",
       "    </tr>\n",
       "    <tr>\n",
       "      <th>2</th>\n",
       "      <td>Data Scientist</td>\n",
       "      <td>All India</td>\n",
       "      <td>3 to 7 Yrs</td>\n",
       "    </tr>\n",
       "    <tr>\n",
       "      <th>3</th>\n",
       "      <td>Data Scientist /Quantitative Equity Researcher 2</td>\n",
       "      <td>Other Maharashtra</td>\n",
       "      <td>0 to 7 Yrs</td>\n",
       "    </tr>\n",
       "    <tr>\n",
       "      <th>4</th>\n",
       "      <td>Data Scientist</td>\n",
       "      <td>Hyderabad\\n+1</td>\n",
       "      <td>1 to 2 Yrs</td>\n",
       "    </tr>\n",
       "    <tr>\n",
       "      <th>5</th>\n",
       "      <td>Data Scientist</td>\n",
       "      <td>Other Haryana</td>\n",
       "      <td>5 to 9 Yrs</td>\n",
       "    </tr>\n",
       "    <tr>\n",
       "      <th>6</th>\n",
       "      <td>Data Scientist</td>\n",
       "      <td>All India</td>\n",
       "      <td>3 to 7 Yrs</td>\n",
       "    </tr>\n",
       "    <tr>\n",
       "      <th>7</th>\n",
       "      <td>Data Scientist</td>\n",
       "      <td>Other Karnataka</td>\n",
       "      <td>2 to 6 Yrs</td>\n",
       "    </tr>\n",
       "    <tr>\n",
       "      <th>8</th>\n",
       "      <td>Data Scientist II, GPS India Operations T500-1...</td>\n",
       "      <td>Hyderabad\\n+1</td>\n",
       "      <td>3 to 5 Yrs</td>\n",
       "    </tr>\n",
       "    <tr>\n",
       "      <th>9</th>\n",
       "      <td>Lead Data Scientist</td>\n",
       "      <td>Other Karnataka</td>\n",
       "      <td>5 to 9 Yrs</td>\n",
       "    </tr>\n",
       "    <tr>\n",
       "      <th>10</th>\n",
       "      <td>Lead Data Scientist</td>\n",
       "      <td>Other Maharashtra\\n+1</td>\n",
       "      <td>8 to 12 Yrs</td>\n",
       "    </tr>\n",
       "    <tr>\n",
       "      <th>11</th>\n",
       "      <td>Data Scientist</td>\n",
       "      <td>Other Karnataka</td>\n",
       "      <td>2 to 4 Yrs</td>\n",
       "    </tr>\n",
       "    <tr>\n",
       "      <th>12</th>\n",
       "      <td>Data Scientist</td>\n",
       "      <td>Hyderabad\\n+1</td>\n",
       "      <td>5 to 9 Yrs</td>\n",
       "    </tr>\n",
       "    <tr>\n",
       "      <th>13</th>\n",
       "      <td>Data Scientist (Theoretical)</td>\n",
       "      <td>All India</td>\n",
       "      <td>2 to 6 Yrs</td>\n",
       "    </tr>\n",
       "    <tr>\n",
       "      <th>14</th>\n",
       "      <td>Senior Data Scientist</td>\n",
       "      <td>Other Karnataka</td>\n",
       "      <td>7 to 10 Yrs</td>\n",
       "    </tr>\n",
       "    <tr>\n",
       "      <th>15</th>\n",
       "      <td>Data Scientist</td>\n",
       "      <td>Other Maharashtra\\n+1</td>\n",
       "      <td>1 to 5 Yrs</td>\n",
       "    </tr>\n",
       "    <tr>\n",
       "      <th>16</th>\n",
       "      <td>HM Lead Data Scientist</td>\n",
       "      <td>Other Karnataka</td>\n",
       "      <td>7 to 10 Yrs</td>\n",
       "    </tr>\n",
       "    <tr>\n",
       "      <th>17</th>\n",
       "      <td>Staff Data Scientist</td>\n",
       "      <td>Other Karnataka</td>\n",
       "      <td>2 to 5 Yrs</td>\n",
       "    </tr>\n",
       "    <tr>\n",
       "      <th>18</th>\n",
       "      <td>Data Scientist- BLR HYD GGN</td>\n",
       "      <td>Other Karnataka</td>\n",
       "      <td>5 to 9 Yrs</td>\n",
       "    </tr>\n",
       "    <tr>\n",
       "      <th>19</th>\n",
       "      <td>Lead Data Scientist</td>\n",
       "      <td>All India</td>\n",
       "      <td>10 to 14 Yrs</td>\n",
       "    </tr>\n",
       "  </tbody>\n",
       "</table>\n",
       "</div>"
      ],
      "text/plain": [
       "                                                TITLE               LOCATION  \\\n",
       "0      Data Scientist | Senior Data Scientist Chennai                Chennai   \n",
       "1                   Data Scientist/Data Analyst-17740              All India   \n",
       "2                                      Data Scientist              All India   \n",
       "3    Data Scientist /Quantitative Equity Researcher 2      Other Maharashtra   \n",
       "4                                      Data Scientist          Hyderabad\\n+1   \n",
       "5                                      Data Scientist          Other Haryana   \n",
       "6                                      Data Scientist              All India   \n",
       "7                                      Data Scientist        Other Karnataka   \n",
       "8   Data Scientist II, GPS India Operations T500-1...          Hyderabad\\n+1   \n",
       "9                                 Lead Data Scientist        Other Karnataka   \n",
       "10                                Lead Data Scientist  Other Maharashtra\\n+1   \n",
       "11                                     Data Scientist        Other Karnataka   \n",
       "12                                     Data Scientist          Hyderabad\\n+1   \n",
       "13                       Data Scientist (Theoretical)              All India   \n",
       "14                              Senior Data Scientist        Other Karnataka   \n",
       "15                                     Data Scientist  Other Maharashtra\\n+1   \n",
       "16                             HM Lead Data Scientist        Other Karnataka   \n",
       "17                               Staff Data Scientist        Other Karnataka   \n",
       "18                        Data Scientist- BLR HYD GGN        Other Karnataka   \n",
       "19                                Lead Data Scientist              All India   \n",
       "\n",
       "      EXPERIENCE  \n",
       "0    8 to 13 Yrs  \n",
       "1     3 to 7 Yrs  \n",
       "2     3 to 7 Yrs  \n",
       "3     0 to 7 Yrs  \n",
       "4     1 to 2 Yrs  \n",
       "5     5 to 9 Yrs  \n",
       "6     3 to 7 Yrs  \n",
       "7     2 to 6 Yrs  \n",
       "8     3 to 5 Yrs  \n",
       "9     5 to 9 Yrs  \n",
       "10   8 to 12 Yrs  \n",
       "11    2 to 4 Yrs  \n",
       "12    5 to 9 Yrs  \n",
       "13    2 to 6 Yrs  \n",
       "14   7 to 10 Yrs  \n",
       "15    1 to 5 Yrs  \n",
       "16   7 to 10 Yrs  \n",
       "17    2 to 5 Yrs  \n",
       "18    5 to 9 Yrs  \n",
       "19  10 to 14 Yrs  "
      ]
     },
     "execution_count": 57,
     "metadata": {},
     "output_type": "execute_result"
    }
   ],
   "source": [
    "import pandas as pd\n",
    "df=pd.DataFrame({'TITLE':JobTitle,'LOCATION':JobLocation,'EXPERIENCE':ExperienceRequired})\n",
    "df"
   ]
  },
  {
   "cell_type": "markdown",
   "id": "ad8d7ab7",
   "metadata": {},
   "source": [
    "# Q4: Scrape data of first 100 sunglasses listings on flipkart.com. You have to scrape four attributes:\n",
    "6. Brand\n",
    "7. Product Description\n",
    "8. Price\n",
    "The attributes which you have to scrape is ticked marked in the below image."
   ]
  },
  {
   "cell_type": "code",
   "execution_count": 64,
   "id": "7cff1cc1",
   "metadata": {},
   "outputs": [],
   "source": [
    "driver = webdriver.Chrome();"
   ]
  },
  {
   "cell_type": "code",
   "execution_count": 65,
   "id": "b16023b8",
   "metadata": {},
   "outputs": [],
   "source": [
    "driver.get(\"http://www.flipkart.com/\")"
   ]
  },
  {
   "cell_type": "code",
   "execution_count": 66,
   "id": "eb97bfb7",
   "metadata": {},
   "outputs": [],
   "source": [
    "Product=driver.find_element(By.XPATH,\"//input[@class='Pke_EE']\")\n",
    "Product.send_keys('sunglasses')"
   ]
  },
  {
   "cell_type": "code",
   "execution_count": 67,
   "id": "8b1c63ba",
   "metadata": {},
   "outputs": [],
   "source": [
    "driver.find_element(By.XPATH,\"//input[@class='Pke_EE']\").click()"
   ]
  },
  {
   "cell_type": "code",
   "execution_count": 71,
   "id": "6e2e8e6f",
   "metadata": {},
   "outputs": [],
   "source": [
    "Item = []\n",
    "Title=driver.find_elements(By.XPATH,\"//div[@class='_2WkVRV']\")\n",
    "for i in Title:\n",
    "    Title=i.text\n",
    "    Item.append(Title)"
   ]
  },
  {
   "cell_type": "code",
   "execution_count": 72,
   "id": "e9b4d089",
   "metadata": {},
   "outputs": [
    {
     "data": {
      "text/plain": [
       "['SRPM',\n",
       " 'Elligator',\n",
       " 'VINCENT CHASE',\n",
       " 'ROADWAY',\n",
       " 'peter india',\n",
       " 'VINCENT CHASE',\n",
       " 'ROADWAY',\n",
       " 'Elligator',\n",
       " 'TheWhoop',\n",
       " 'Elligator',\n",
       " 'Elligator',\n",
       " 'NOWWAY',\n",
       " 'PIRASO',\n",
       " 'PIRASO',\n",
       " 'Rich Club',\n",
       " 'Elligator',\n",
       " 'Rich Club',\n",
       " 'Bembika',\n",
       " 'Singco India',\n",
       " 'VINCENT CHASE',\n",
       " 'DEIXELS',\n",
       " 'ZUKER',\n",
       " 'RBGIIT',\n",
       " 'Elligator',\n",
       " 'PIRASO',\n",
       " 'ROYAL SON',\n",
       " 'ROYAL SON',\n",
       " 'Elligator',\n",
       " 'PIRASO',\n",
       " 'Fastrack',\n",
       " 'Singco India',\n",
       " 'ROZZETTA CRAFT',\n",
       " 'Royaltail',\n",
       " 'Elligator',\n",
       " 'Singco India',\n",
       " 'PIRASO',\n",
       " 'PIRASO',\n",
       " 'VINCENT CHASE',\n",
       " 'Ray-Ban',\n",
       " 'Rich Club']"
      ]
     },
     "execution_count": 72,
     "metadata": {},
     "output_type": "execute_result"
    }
   ],
   "source": [
    "Item"
   ]
  },
  {
   "cell_type": "code",
   "execution_count": 81,
   "id": "43dd7cc6",
   "metadata": {},
   "outputs": [],
   "source": [
    "Details = []\n",
    "pdetails=driver.find_elements(By.XPATH,\"//a[@class='IRpwTa']\")\n",
    "for i in pdetails:\n",
    "    pdetails=i.text\n",
    "    Details.append(pdetails)"
   ]
  },
  {
   "cell_type": "code",
   "execution_count": 82,
   "id": "b87deea8",
   "metadata": {},
   "outputs": [
    {
     "data": {
      "text/plain": [
       "['UV Protection Wayfarer Sunglasses (50)',\n",
       " 'UV Protection Retro Square Sunglasses (54)',\n",
       " 'by Lenskart Polarized, UV Protection Wayfarer Sunglasse...',\n",
       " 'UV Protection Retro Square, Wayfarer, Sports Sunglasses...',\n",
       " 'Polarized Aviator Sunglasses (Free Size)',\n",
       " 'by Lenskart UV Protection Wayfarer Sunglasses (59)',\n",
       " 'UV Protection Wayfarer Sunglasses (Free Size)',\n",
       " 'UV Protection Cat-eye, Retro Square, Oval, Round Sungla...',\n",
       " 'UV Protection Wayfarer Sunglasses (Free Size)',\n",
       " 'UV Protection, Mirrored Wayfarer Sunglasses (52)',\n",
       " 'UV Protection Wayfarer Sunglasses (53)',\n",
       " 'UV Protection Aviator Sunglasses (54)',\n",
       " 'UV Protection Butterfly Sunglasses (60)',\n",
       " 'UV Protection Retro Square Sunglasses (54)',\n",
       " 'UV Protection Wayfarer Sunglasses (50)',\n",
       " 'UV Protection Rectangular Sunglasses (52)',\n",
       " 'UV Protection Spectacle Sunglasses (Free Size)',\n",
       " 'UV Protection, Riding Glasses, Gradient Clubmaster Sung...',\n",
       " 'by Lenskart Polarized, UV Protection Retro Square Sungl...',\n",
       " 'Polarized, UV Protection, Riding Glasses Wayfarer Sungl...',\n",
       " 'Polarized Round Sunglasses (Free Size)',\n",
       " 'Night Vision, UV Protection, Polarized Wrap-around Sung...',\n",
       " 'UV Protection Round Sunglasses (54)',\n",
       " 'UV Protection Retro Square Sunglasses (54)',\n",
       " 'Polarized, UV Protection Retro Square Sunglasses (55)',\n",
       " 'Polarized, UV Protection Aviator Sunglasses (58)',\n",
       " 'UV Protection Round Sunglasses (53)',\n",
       " 'UV Protection Butterfly Sunglasses (60)',\n",
       " 'UV Protection Shield Sunglasses (Free Size)',\n",
       " 'Riding Glasses, UV Protection Clubmaster, Wayfarer Sung...',\n",
       " 'UV Protection Spectacle Sunglasses (Free Size)',\n",
       " 'Polarized Aviator Sunglasses (58)',\n",
       " 'UV Protection Round Sunglasses (53)',\n",
       " 'Polarized, UV Protection Wayfarer, Retro Square Sunglas...',\n",
       " 'UV Protection Butterfly Sunglasses (60)',\n",
       " 'by Lenskart Polarized, UV Protection Rectangular Sungla...',\n",
       " 'UV Protection Aviator Sunglasses (58)',\n",
       " 'UV Protection Retro Square Sunglasses (54)']"
      ]
     },
     "execution_count": 82,
     "metadata": {},
     "output_type": "execute_result"
    }
   ],
   "source": [
    "Details"
   ]
  },
  {
   "cell_type": "code",
   "execution_count": 83,
   "id": "43d44c55",
   "metadata": {},
   "outputs": [],
   "source": [
    "PRICE = []\n",
    "pprice=driver.find_elements(By.XPATH,\"//div[@class='_30jeq3']\")\n",
    "for i in pprice:\n",
    "    pprice=i.text\n",
    "    PRICE.append(pprice)\n"
   ]
  },
  {
   "cell_type": "code",
   "execution_count": 84,
   "id": "d04196f1",
   "metadata": {},
   "outputs": [
    {
     "data": {
      "text/plain": [
       "['₹149',\n",
       " '₹149',\n",
       " '₹499',\n",
       " '₹129',\n",
       " '₹220',\n",
       " '₹523',\n",
       " '₹179',\n",
       " '₹149',\n",
       " '₹539',\n",
       " '₹169',\n",
       " '₹149',\n",
       " '₹299',\n",
       " '₹210',\n",
       " '₹299',\n",
       " '₹487',\n",
       " '₹168',\n",
       " '₹394',\n",
       " '₹189',\n",
       " '₹249',\n",
       " '₹811',\n",
       " '₹187',\n",
       " '₹699',\n",
       " '₹229',\n",
       " '₹249',\n",
       " '₹232',\n",
       " '₹551',\n",
       " '₹636',\n",
       " '₹169',\n",
       " '₹299',\n",
       " '₹739',\n",
       " '₹317',\n",
       " '₹381',\n",
       " '₹1,118',\n",
       " '₹159',\n",
       " '₹375',\n",
       " '₹388',\n",
       " '₹279',\n",
       " '₹811',\n",
       " '₹4,659',\n",
       " '₹455']"
      ]
     },
     "execution_count": 84,
     "metadata": {},
     "output_type": "execute_result"
    }
   ],
   "source": [
    "PRICE"
   ]
  },
  {
   "cell_type": "code",
   "execution_count": 85,
   "id": "be2cacb6",
   "metadata": {},
   "outputs": [
    {
     "ename": "ValueError",
     "evalue": "All arrays must be of the same length",
     "output_type": "error",
     "traceback": [
      "\u001b[1;31m---------------------------------------------------------------------------\u001b[0m",
      "\u001b[1;31mValueError\u001b[0m                                Traceback (most recent call last)",
      "Cell \u001b[1;32mIn[85], line 2\u001b[0m\n\u001b[0;32m      1\u001b[0m \u001b[38;5;28;01mimport\u001b[39;00m \u001b[38;5;21;01mpandas\u001b[39;00m \u001b[38;5;28;01mas\u001b[39;00m \u001b[38;5;21;01mpd\u001b[39;00m\n\u001b[1;32m----> 2\u001b[0m df\u001b[38;5;241m=\u001b[39m\u001b[43mpd\u001b[49m\u001b[38;5;241;43m.\u001b[39;49m\u001b[43mDataFrame\u001b[49m\u001b[43m(\u001b[49m\u001b[43m{\u001b[49m\u001b[38;5;124;43m'\u001b[39;49m\u001b[38;5;124;43mPRODUCT\u001b[39;49m\u001b[38;5;124;43m'\u001b[39;49m\u001b[43m:\u001b[49m\u001b[43mItem\u001b[49m\u001b[43m,\u001b[49m\u001b[38;5;124;43m'\u001b[39;49m\u001b[38;5;124;43mINFO\u001b[39;49m\u001b[38;5;124;43m'\u001b[39;49m\u001b[43m:\u001b[49m\u001b[43mDetails\u001b[49m\u001b[43m,\u001b[49m\u001b[38;5;124;43m'\u001b[39;49m\u001b[38;5;124;43mPRICES\u001b[39;49m\u001b[38;5;124;43m'\u001b[39;49m\u001b[43m:\u001b[49m\u001b[43mPRICE\u001b[49m\u001b[43m}\u001b[49m\u001b[43m)\u001b[49m\n\u001b[0;32m      3\u001b[0m df\n",
      "File \u001b[1;32m~\\anaconda3\\lib\\site-packages\\pandas\\core\\frame.py:664\u001b[0m, in \u001b[0;36mDataFrame.__init__\u001b[1;34m(self, data, index, columns, dtype, copy)\u001b[0m\n\u001b[0;32m    658\u001b[0m     mgr \u001b[38;5;241m=\u001b[39m \u001b[38;5;28mself\u001b[39m\u001b[38;5;241m.\u001b[39m_init_mgr(\n\u001b[0;32m    659\u001b[0m         data, axes\u001b[38;5;241m=\u001b[39m{\u001b[38;5;124m\"\u001b[39m\u001b[38;5;124mindex\u001b[39m\u001b[38;5;124m\"\u001b[39m: index, \u001b[38;5;124m\"\u001b[39m\u001b[38;5;124mcolumns\u001b[39m\u001b[38;5;124m\"\u001b[39m: columns}, dtype\u001b[38;5;241m=\u001b[39mdtype, copy\u001b[38;5;241m=\u001b[39mcopy\n\u001b[0;32m    660\u001b[0m     )\n\u001b[0;32m    662\u001b[0m \u001b[38;5;28;01melif\u001b[39;00m \u001b[38;5;28misinstance\u001b[39m(data, \u001b[38;5;28mdict\u001b[39m):\n\u001b[0;32m    663\u001b[0m     \u001b[38;5;66;03m# GH#38939 de facto copy defaults to False only in non-dict cases\u001b[39;00m\n\u001b[1;32m--> 664\u001b[0m     mgr \u001b[38;5;241m=\u001b[39m \u001b[43mdict_to_mgr\u001b[49m\u001b[43m(\u001b[49m\u001b[43mdata\u001b[49m\u001b[43m,\u001b[49m\u001b[43m \u001b[49m\u001b[43mindex\u001b[49m\u001b[43m,\u001b[49m\u001b[43m \u001b[49m\u001b[43mcolumns\u001b[49m\u001b[43m,\u001b[49m\u001b[43m \u001b[49m\u001b[43mdtype\u001b[49m\u001b[38;5;241;43m=\u001b[39;49m\u001b[43mdtype\u001b[49m\u001b[43m,\u001b[49m\u001b[43m \u001b[49m\u001b[43mcopy\u001b[49m\u001b[38;5;241;43m=\u001b[39;49m\u001b[43mcopy\u001b[49m\u001b[43m,\u001b[49m\u001b[43m \u001b[49m\u001b[43mtyp\u001b[49m\u001b[38;5;241;43m=\u001b[39;49m\u001b[43mmanager\u001b[49m\u001b[43m)\u001b[49m\n\u001b[0;32m    665\u001b[0m \u001b[38;5;28;01melif\u001b[39;00m \u001b[38;5;28misinstance\u001b[39m(data, ma\u001b[38;5;241m.\u001b[39mMaskedArray):\n\u001b[0;32m    666\u001b[0m     \u001b[38;5;28;01mimport\u001b[39;00m \u001b[38;5;21;01mnumpy\u001b[39;00m\u001b[38;5;21;01m.\u001b[39;00m\u001b[38;5;21;01mma\u001b[39;00m\u001b[38;5;21;01m.\u001b[39;00m\u001b[38;5;21;01mmrecords\u001b[39;00m \u001b[38;5;28;01mas\u001b[39;00m \u001b[38;5;21;01mmrecords\u001b[39;00m\n",
      "File \u001b[1;32m~\\anaconda3\\lib\\site-packages\\pandas\\core\\internals\\construction.py:493\u001b[0m, in \u001b[0;36mdict_to_mgr\u001b[1;34m(data, index, columns, dtype, typ, copy)\u001b[0m\n\u001b[0;32m    489\u001b[0m     \u001b[38;5;28;01melse\u001b[39;00m:\n\u001b[0;32m    490\u001b[0m         \u001b[38;5;66;03m# dtype check to exclude e.g. range objects, scalars\u001b[39;00m\n\u001b[0;32m    491\u001b[0m         arrays \u001b[38;5;241m=\u001b[39m [x\u001b[38;5;241m.\u001b[39mcopy() \u001b[38;5;28;01mif\u001b[39;00m \u001b[38;5;28mhasattr\u001b[39m(x, \u001b[38;5;124m\"\u001b[39m\u001b[38;5;124mdtype\u001b[39m\u001b[38;5;124m\"\u001b[39m) \u001b[38;5;28;01melse\u001b[39;00m x \u001b[38;5;28;01mfor\u001b[39;00m x \u001b[38;5;129;01min\u001b[39;00m arrays]\n\u001b[1;32m--> 493\u001b[0m \u001b[38;5;28;01mreturn\u001b[39;00m \u001b[43marrays_to_mgr\u001b[49m\u001b[43m(\u001b[49m\u001b[43marrays\u001b[49m\u001b[43m,\u001b[49m\u001b[43m \u001b[49m\u001b[43mcolumns\u001b[49m\u001b[43m,\u001b[49m\u001b[43m \u001b[49m\u001b[43mindex\u001b[49m\u001b[43m,\u001b[49m\u001b[43m \u001b[49m\u001b[43mdtype\u001b[49m\u001b[38;5;241;43m=\u001b[39;49m\u001b[43mdtype\u001b[49m\u001b[43m,\u001b[49m\u001b[43m \u001b[49m\u001b[43mtyp\u001b[49m\u001b[38;5;241;43m=\u001b[39;49m\u001b[43mtyp\u001b[49m\u001b[43m,\u001b[49m\u001b[43m \u001b[49m\u001b[43mconsolidate\u001b[49m\u001b[38;5;241;43m=\u001b[39;49m\u001b[43mcopy\u001b[49m\u001b[43m)\u001b[49m\n",
      "File \u001b[1;32m~\\anaconda3\\lib\\site-packages\\pandas\\core\\internals\\construction.py:118\u001b[0m, in \u001b[0;36marrays_to_mgr\u001b[1;34m(arrays, columns, index, dtype, verify_integrity, typ, consolidate)\u001b[0m\n\u001b[0;32m    115\u001b[0m \u001b[38;5;28;01mif\u001b[39;00m verify_integrity:\n\u001b[0;32m    116\u001b[0m     \u001b[38;5;66;03m# figure out the index, if necessary\u001b[39;00m\n\u001b[0;32m    117\u001b[0m     \u001b[38;5;28;01mif\u001b[39;00m index \u001b[38;5;129;01mis\u001b[39;00m \u001b[38;5;28;01mNone\u001b[39;00m:\n\u001b[1;32m--> 118\u001b[0m         index \u001b[38;5;241m=\u001b[39m \u001b[43m_extract_index\u001b[49m\u001b[43m(\u001b[49m\u001b[43marrays\u001b[49m\u001b[43m)\u001b[49m\n\u001b[0;32m    119\u001b[0m     \u001b[38;5;28;01melse\u001b[39;00m:\n\u001b[0;32m    120\u001b[0m         index \u001b[38;5;241m=\u001b[39m ensure_index(index)\n",
      "File \u001b[1;32m~\\anaconda3\\lib\\site-packages\\pandas\\core\\internals\\construction.py:666\u001b[0m, in \u001b[0;36m_extract_index\u001b[1;34m(data)\u001b[0m\n\u001b[0;32m    664\u001b[0m lengths \u001b[38;5;241m=\u001b[39m \u001b[38;5;28mlist\u001b[39m(\u001b[38;5;28mset\u001b[39m(raw_lengths))\n\u001b[0;32m    665\u001b[0m \u001b[38;5;28;01mif\u001b[39;00m \u001b[38;5;28mlen\u001b[39m(lengths) \u001b[38;5;241m>\u001b[39m \u001b[38;5;241m1\u001b[39m:\n\u001b[1;32m--> 666\u001b[0m     \u001b[38;5;28;01mraise\u001b[39;00m \u001b[38;5;167;01mValueError\u001b[39;00m(\u001b[38;5;124m\"\u001b[39m\u001b[38;5;124mAll arrays must be of the same length\u001b[39m\u001b[38;5;124m\"\u001b[39m)\n\u001b[0;32m    668\u001b[0m \u001b[38;5;28;01mif\u001b[39;00m have_dicts:\n\u001b[0;32m    669\u001b[0m     \u001b[38;5;28;01mraise\u001b[39;00m \u001b[38;5;167;01mValueError\u001b[39;00m(\n\u001b[0;32m    670\u001b[0m         \u001b[38;5;124m\"\u001b[39m\u001b[38;5;124mMixing dicts with non-Series may lead to ambiguous ordering.\u001b[39m\u001b[38;5;124m\"\u001b[39m\n\u001b[0;32m    671\u001b[0m     )\n",
      "\u001b[1;31mValueError\u001b[0m: All arrays must be of the same length"
     ]
    }
   ],
   "source": [
    "import pandas as pd\n",
    "df=pd.DataFrame({'PRODUCT':Item,'INFO':Details,'PRICES':PRICE})\n",
    "df"
   ]
  },
  {
   "cell_type": "markdown",
   "id": "9ffe29f7",
   "metadata": {},
   "source": [
    "# Q5: Scrape 100 reviews data from flipkart.com for iphone11 phone. You have to go the link:\n",
    "https://www.flipkart.com/apple-iphone-11-black-64-gb/product-\n",
    "reviews/itm4e5041ba101fd?pid=MOBFWQ6BXGJCEYNY&lid=LSTMOBFWQ6BXGJCEYNYZXSHRJ&market\n",
    "place=FLIPKART"
   ]
  },
  {
   "cell_type": "code",
   "execution_count": 86,
   "id": "843729fc",
   "metadata": {},
   "outputs": [],
   "source": [
    "driver = webdriver.Chrome();"
   ]
  },
  {
   "cell_type": "code",
   "execution_count": 88,
   "id": "d5123295",
   "metadata": {},
   "outputs": [],
   "source": [
    "driver.get(\"https://www.flipkart.com/apple-iphone-11-black-64-gb/product-reviews/itm4e5041ba101fd?pid=MOBFWQ6BXGJCEYNY&lid=LSTMOBFWQ6BXGJCEYNYZXSHRJ&market place=FLIPKART\")"
   ]
  },
  {
   "cell_type": "code",
   "execution_count": 91,
   "id": "82a86a1d",
   "metadata": {},
   "outputs": [],
   "source": [
    "REVIEW = []\n",
    "review=driver.find_elements(By.XPATH, \"//p[@class='_2-N8zT']\")\n",
    "for i in review:\n",
    "    review=i.text\n",
    "    REVIEW.append(review)"
   ]
  },
  {
   "cell_type": "code",
   "execution_count": 98,
   "id": "fb347250",
   "metadata": {},
   "outputs": [
    {
     "data": {
      "text/plain": [
       "['Worth every penny',\n",
       " 'Best in the market!',\n",
       " 'Wonderful',\n",
       " 'Classy product',\n",
       " 'Terrific',\n",
       " 'Terrific purchase',\n",
       " 'Perfect product!',\n",
       " 'Perfect product!',\n",
       " 'Just wow!',\n",
       " 'Must buy!',\n",
       " 'Worth every penny',\n",
       " 'Best in the market!',\n",
       " 'Wonderful',\n",
       " 'Classy product',\n",
       " 'Terrific',\n",
       " 'Terrific purchase',\n",
       " 'Perfect product!',\n",
       " 'Perfect product!',\n",
       " 'Just wow!',\n",
       " 'Must buy!',\n",
       " 'Fabulous!',\n",
       " 'Brilliant',\n",
       " 'Brilliant',\n",
       " 'Excellent',\n",
       " 'Awesome',\n",
       " 'Fabulous!',\n",
       " 'Terrific purchase',\n",
       " 'Must buy!',\n",
       " 'Super!',\n",
       " 'Simply awesome',\n",
       " 'Worth every penny',\n",
       " 'Best in the market!',\n",
       " 'Wonderful',\n",
       " 'Classy product',\n",
       " 'Terrific',\n",
       " 'Terrific purchase',\n",
       " 'Perfect product!',\n",
       " 'Perfect product!',\n",
       " 'Just wow!',\n",
       " 'Must buy!',\n",
       " 'Fabulous!',\n",
       " 'Brilliant',\n",
       " 'Brilliant',\n",
       " 'Excellent',\n",
       " 'Awesome',\n",
       " 'Fabulous!',\n",
       " 'Terrific purchase',\n",
       " 'Must buy!',\n",
       " 'Super!',\n",
       " 'Simply awesome',\n",
       " 'Worth every penny',\n",
       " 'Best in the market!',\n",
       " 'Wonderful',\n",
       " 'Classy product',\n",
       " 'Terrific',\n",
       " 'Terrific purchase',\n",
       " 'Perfect product!',\n",
       " 'Perfect product!',\n",
       " 'Just wow!',\n",
       " 'Must buy!',\n",
       " 'Fabulous!',\n",
       " 'Brilliant',\n",
       " 'Brilliant',\n",
       " 'Excellent',\n",
       " 'Awesome',\n",
       " 'Fabulous!',\n",
       " 'Terrific purchase',\n",
       " 'Must buy!',\n",
       " 'Super!',\n",
       " 'Simply awesome',\n",
       " 'Worth every penny',\n",
       " 'Best in the market!',\n",
       " 'Wonderful',\n",
       " 'Classy product',\n",
       " 'Terrific',\n",
       " 'Terrific purchase',\n",
       " 'Perfect product!',\n",
       " 'Perfect product!',\n",
       " 'Just wow!',\n",
       " 'Must buy!',\n",
       " 'Fabulous!',\n",
       " 'Brilliant',\n",
       " 'Brilliant',\n",
       " 'Excellent',\n",
       " 'Awesome',\n",
       " 'Fabulous!',\n",
       " 'Terrific purchase',\n",
       " 'Must buy!',\n",
       " 'Super!',\n",
       " 'Simply awesome',\n",
       " 'Worth every penny',\n",
       " 'Best in the market!',\n",
       " 'Wonderful',\n",
       " 'Classy product',\n",
       " 'Terrific',\n",
       " 'Terrific purchase',\n",
       " 'Perfect product!',\n",
       " 'Perfect product!',\n",
       " 'Just wow!',\n",
       " 'Must buy!',\n",
       " 'Fabulous!',\n",
       " 'Brilliant',\n",
       " 'Brilliant',\n",
       " 'Excellent',\n",
       " 'Awesome',\n",
       " 'Fabulous!',\n",
       " 'Terrific purchase',\n",
       " 'Must buy!',\n",
       " 'Super!',\n",
       " 'Simply awesome']"
      ]
     },
     "execution_count": 98,
     "metadata": {},
     "output_type": "execute_result"
    }
   ],
   "source": [
    "REVIEW\n"
   ]
  },
  {
   "cell_type": "code",
   "execution_count": 96,
   "id": "a8f5ef2d",
   "metadata": {},
   "outputs": [],
   "source": [
    "start=0\n",
    "end=6\n",
    "for page in range(start,end):\n",
    "    review=driver.find_elements(By.XPATH, \"//p[@class='_2-N8zT']\")\n",
    "    for i in review:\n",
    "        review=i.text\n",
    "        REVIEW.append(review)\n",
    "    next_button=driver.find_element(By.XPATH, \"//a[@class='_1LKTO3']\")  \n",
    "    next_button.click()\n",
    "    time.sleep(3)"
   ]
  },
  {
   "cell_type": "code",
   "execution_count": 97,
   "id": "01fda619",
   "metadata": {},
   "outputs": [
    {
     "data": {
      "text/plain": [
       "110"
      ]
     },
     "execution_count": 97,
     "metadata": {},
     "output_type": "execute_result"
    }
   ],
   "source": [
    "len(REVIEW)"
   ]
  },
  {
   "cell_type": "code",
   "execution_count": 99,
   "id": "ea0e64d8",
   "metadata": {},
   "outputs": [
    {
     "data": {
      "text/plain": [
       "['Worth every penny',\n",
       " 'Best in the market!',\n",
       " 'Wonderful',\n",
       " 'Classy product',\n",
       " 'Terrific',\n",
       " 'Terrific purchase',\n",
       " 'Perfect product!',\n",
       " 'Perfect product!',\n",
       " 'Just wow!',\n",
       " 'Must buy!',\n",
       " 'Worth every penny',\n",
       " 'Best in the market!',\n",
       " 'Wonderful',\n",
       " 'Classy product',\n",
       " 'Terrific',\n",
       " 'Terrific purchase',\n",
       " 'Perfect product!',\n",
       " 'Perfect product!',\n",
       " 'Just wow!',\n",
       " 'Must buy!',\n",
       " 'Fabulous!',\n",
       " 'Brilliant',\n",
       " 'Brilliant',\n",
       " 'Excellent',\n",
       " 'Awesome',\n",
       " 'Fabulous!',\n",
       " 'Terrific purchase',\n",
       " 'Must buy!',\n",
       " 'Super!',\n",
       " 'Simply awesome',\n",
       " 'Worth every penny',\n",
       " 'Best in the market!',\n",
       " 'Wonderful',\n",
       " 'Classy product',\n",
       " 'Terrific',\n",
       " 'Terrific purchase',\n",
       " 'Perfect product!',\n",
       " 'Perfect product!',\n",
       " 'Just wow!',\n",
       " 'Must buy!',\n",
       " 'Fabulous!',\n",
       " 'Brilliant',\n",
       " 'Brilliant',\n",
       " 'Excellent',\n",
       " 'Awesome',\n",
       " 'Fabulous!',\n",
       " 'Terrific purchase',\n",
       " 'Must buy!',\n",
       " 'Super!',\n",
       " 'Simply awesome',\n",
       " 'Worth every penny',\n",
       " 'Best in the market!',\n",
       " 'Wonderful',\n",
       " 'Classy product',\n",
       " 'Terrific',\n",
       " 'Terrific purchase',\n",
       " 'Perfect product!',\n",
       " 'Perfect product!',\n",
       " 'Just wow!',\n",
       " 'Must buy!',\n",
       " 'Fabulous!',\n",
       " 'Brilliant',\n",
       " 'Brilliant',\n",
       " 'Excellent',\n",
       " 'Awesome',\n",
       " 'Fabulous!',\n",
       " 'Terrific purchase',\n",
       " 'Must buy!',\n",
       " 'Super!',\n",
       " 'Simply awesome',\n",
       " 'Worth every penny',\n",
       " 'Best in the market!',\n",
       " 'Wonderful',\n",
       " 'Classy product',\n",
       " 'Terrific',\n",
       " 'Terrific purchase',\n",
       " 'Perfect product!',\n",
       " 'Perfect product!',\n",
       " 'Just wow!',\n",
       " 'Must buy!',\n",
       " 'Fabulous!',\n",
       " 'Brilliant',\n",
       " 'Brilliant',\n",
       " 'Excellent',\n",
       " 'Awesome',\n",
       " 'Fabulous!',\n",
       " 'Terrific purchase',\n",
       " 'Must buy!',\n",
       " 'Super!',\n",
       " 'Simply awesome',\n",
       " 'Worth every penny',\n",
       " 'Best in the market!',\n",
       " 'Wonderful',\n",
       " 'Classy product',\n",
       " 'Terrific',\n",
       " 'Terrific purchase',\n",
       " 'Perfect product!',\n",
       " 'Perfect product!',\n",
       " 'Just wow!',\n",
       " 'Must buy!']"
      ]
     },
     "execution_count": 99,
     "metadata": {},
     "output_type": "execute_result"
    }
   ],
   "source": [
    "REVIEW[0:100]"
   ]
  },
  {
   "cell_type": "code",
   "execution_count": 100,
   "id": "e892a905",
   "metadata": {},
   "outputs": [],
   "source": [
    "DETAIL_REVIEW = []\n",
    "review1=driver.find_elements(By.XPATH, \"//div[@class='t-ZTKy']\")\n",
    "for i in review1:\n",
    "    review1=i.text\n",
    "    DETAIL_REVIEW.append(review1)"
   ]
  },
  {
   "cell_type": "code",
   "execution_count": 101,
   "id": "81d15d92",
   "metadata": {},
   "outputs": [
    {
     "data": {
      "text/plain": [
       "['Feeling awesome after getting the delivery of my phone. Dual speakers makes the sound quality very loud. Amazing!!',\n",
       " 'Good Camera',\n",
       " 'This is amazing at all',\n",
       " 'Camera is awesome\\nBest battery backup\\nA performer 👌🏻\\nIt will be a real value for money if they provide charger and earphone inbox!',\n",
       " 'Very very good',\n",
       " 'Value for money 😍',\n",
       " 'Photos super',\n",
       " 'V Good all',\n",
       " 'Perfect Product!!',\n",
       " 'It’s really awesome']"
      ]
     },
     "execution_count": 101,
     "metadata": {},
     "output_type": "execute_result"
    }
   ],
   "source": [
    "DETAIL_REVIEW"
   ]
  },
  {
   "cell_type": "code",
   "execution_count": 103,
   "id": "07a39613",
   "metadata": {},
   "outputs": [],
   "source": [
    "start=0\n",
    "end=6\n",
    "for page in range(start,end):\n",
    "    review1=driver.find_elements(By.XPATH, \"//div[@class='t-ZTKy']\")\n",
    "    for i in review1:\n",
    "        review1=i.text\n",
    "        DETAIL_REVIEW.append(review1)\n",
    "    next_button=driver.find_element(By.XPATH, \"//a[@class='_1LKTO3']\")  \n",
    "    next_button.click()\n",
    "    time.sleep(3)"
   ]
  },
  {
   "cell_type": "code",
   "execution_count": 104,
   "id": "396d5884",
   "metadata": {},
   "outputs": [
    {
     "data": {
      "text/plain": [
       "['Feeling awesome after getting the delivery of my phone. Dual speakers makes the sound quality very loud. Amazing!!',\n",
       " 'Good Camera',\n",
       " 'This is amazing at all',\n",
       " 'Camera is awesome\\nBest battery backup\\nA performer 👌🏻\\nIt will be a real value for money if they provide charger and earphone inbox!',\n",
       " 'Very very good',\n",
       " 'Value for money 😍',\n",
       " 'Photos super',\n",
       " 'V Good all',\n",
       " 'Perfect Product!!',\n",
       " 'It’s really awesome',\n",
       " 'Feeling awesome after getting the delivery of my phone. Dual speakers makes the sound quality very loud. Amazing!!',\n",
       " 'Super🔥 and good performance 👌❤️',\n",
       " 'Excellent Phone.',\n",
       " 'very good camera quality',\n",
       " 'NYC',\n",
       " 'iPhone 11 is a good phone. Not a very big difference between 12 except for the OLED screen and a very minor camera improvement which is you cant make a difference. If you are planning for a iPhone and you have budget you definitely can go for this without second thoughts.\\nNow some people are complaining and giving review 0 or so because there is no charger and headphones, but thats been already mentioned so I assume they are illiterate. Its not that Flipkart is removing them duh. Anyways bee...\\nREAD MORE',\n",
       " 'It’s very good battery life and display and video quality and ther performance of iPhone.....🔥🔥🌈',\n",
       " 'Value for money 🖤🖤',\n",
       " 'Go for iPhone 11 , if confused between iPhone 11 or iPhone 12 mini.Battery Life is enhanced , it worked for complete 2 days without charging it. Explored new features of taking screenshot by clicking on apple logo by Haptic Touch , Portrait mode with stage effect enhanced & slow motion selfie.',\n",
       " 'Good product 👌I love iPhone',\n",
       " 'Really satisfied with the Product I received... It’s totally genuine and the packaging was also really good so if ur planning to buy just go for it.',\n",
       " 'Feeling awesome after getting the delivery of my phone. Dual speakers makes the sound quality very loud. Amazing!!',\n",
       " 'Good Camera',\n",
       " 'This is amazing at all',\n",
       " 'Camera is awesome\\nBest battery backup\\nA performer 👌🏻\\nIt will be a real value for money if they provide charger and earphone inbox!',\n",
       " 'Very very good',\n",
       " 'Value for money 😍',\n",
       " 'Photos super',\n",
       " 'V Good all',\n",
       " 'Perfect Product!!',\n",
       " 'It’s really awesome',\n",
       " 'Super🔥 and good performance 👌❤️',\n",
       " 'Excellent Phone.',\n",
       " 'very good camera quality',\n",
       " 'NYC',\n",
       " 'iPhone 11 is a good phone. Not a very big difference between 12 except for the OLED screen and a very minor camera improvement which is you cant make a difference. If you are planning for a iPhone and you have budget you definitely can go for this without second thoughts.\\nNow some people are complaining and giving review 0 or so because there is no charger and headphones, but thats been already mentioned so I assume they are illiterate. Its not that Flipkart is removing them duh. Anyways bee...\\nREAD MORE',\n",
       " 'It’s very good battery life and display and video quality and ther performance of iPhone.....🔥🔥🌈',\n",
       " 'Value for money 🖤🖤',\n",
       " 'Go for iPhone 11 , if confused between iPhone 11 or iPhone 12 mini.Battery Life is enhanced , it worked for complete 2 days without charging it. Explored new features of taking screenshot by clicking on apple logo by Haptic Touch , Portrait mode with stage effect enhanced & slow motion selfie.',\n",
       " 'Good product 👌I love iPhone',\n",
       " 'Really satisfied with the Product I received... It’s totally genuine and the packaging was also really good so if ur planning to buy just go for it.',\n",
       " 'Feeling awesome after getting the delivery of my phone. Dual speakers makes the sound quality very loud. Amazing!!',\n",
       " 'Good Camera',\n",
       " 'This is amazing at all',\n",
       " 'Camera is awesome\\nBest battery backup\\nA performer 👌🏻\\nIt will be a real value for money if they provide charger and earphone inbox!',\n",
       " 'Very very good',\n",
       " 'Value for money 😍',\n",
       " 'Photos super',\n",
       " 'V Good all',\n",
       " 'Perfect Product!!',\n",
       " 'It’s really awesome',\n",
       " 'Super🔥 and good performance 👌❤️',\n",
       " 'Excellent Phone.',\n",
       " 'very good camera quality',\n",
       " 'NYC',\n",
       " 'iPhone 11 is a good phone. Not a very big difference between 12 except for the OLED screen and a very minor camera improvement which is you cant make a difference. If you are planning for a iPhone and you have budget you definitely can go for this without second thoughts.\\nNow some people are complaining and giving review 0 or so because there is no charger and headphones, but thats been already mentioned so I assume they are illiterate. Its not that Flipkart is removing them duh. Anyways bee...\\nREAD MORE',\n",
       " 'It’s very good battery life and display and video quality and ther performance of iPhone.....🔥🔥🌈',\n",
       " 'Value for money 🖤🖤',\n",
       " 'Go for iPhone 11 , if confused between iPhone 11 or iPhone 12 mini.Battery Life is enhanced , it worked for complete 2 days without charging it. Explored new features of taking screenshot by clicking on apple logo by Haptic Touch , Portrait mode with stage effect enhanced & slow motion selfie.',\n",
       " 'Good product 👌I love iPhone',\n",
       " 'Really satisfied with the Product I received... It’s totally genuine and the packaging was also really good so if ur planning to buy just go for it.',\n",
       " 'Feeling awesome after getting the delivery of my phone. Dual speakers makes the sound quality very loud. Amazing!!',\n",
       " 'Good Camera',\n",
       " 'This is amazing at all',\n",
       " 'Camera is awesome\\nBest battery backup\\nA performer 👌🏻\\nIt will be a real value for money if they provide charger and earphone inbox!',\n",
       " 'Very very good',\n",
       " 'Value for money 😍',\n",
       " 'Photos super',\n",
       " 'V Good all',\n",
       " 'Perfect Product!!',\n",
       " 'It’s really awesome']"
      ]
     },
     "execution_count": 104,
     "metadata": {},
     "output_type": "execute_result"
    }
   ],
   "source": [
    "DETAIL_REVIEW[0:100]"
   ]
  },
  {
   "cell_type": "code",
   "execution_count": 105,
   "id": "aa7f4f30",
   "metadata": {},
   "outputs": [],
   "source": [
    "RATING = []\n",
    "rating=driver.find_elements(By.XPATH, \"//div[@class='_3LWZlK _1BLPMq']\")\n",
    "for i in rating:\n",
    "    rating=i.text\n",
    "    RATING.append(rating)"
   ]
  },
  {
   "cell_type": "code",
   "execution_count": 106,
   "id": "729b4a03",
   "metadata": {},
   "outputs": [
    {
     "data": {
      "text/plain": [
       "['5', '5', '5', '5', '5', '5', '5', '5', '5', '5']"
      ]
     },
     "execution_count": 106,
     "metadata": {},
     "output_type": "execute_result"
    }
   ],
   "source": [
    "RATING"
   ]
  },
  {
   "cell_type": "code",
   "execution_count": 107,
   "id": "b6541dcc",
   "metadata": {},
   "outputs": [],
   "source": [
    "start=0\n",
    "end=6\n",
    "for page in range(start,end):\n",
    "    rating=driver.find_elements(By.XPATH, \"//div[@class='_3LWZlK _1BLPMq']\")\n",
    "    for i in rating:\n",
    "        rating=i.text\n",
    "        RATING.append(rating)\n",
    "    next_button=driver.find_element(By.XPATH, \"//a[@class='_1LKTO3']\")  \n",
    "    next_button.click()\n",
    "    time.sleep(3)"
   ]
  },
  {
   "cell_type": "code",
   "execution_count": 109,
   "id": "12352b97",
   "metadata": {},
   "outputs": [
    {
     "data": {
      "text/plain": [
       "['5',\n",
       " '5',\n",
       " '5',\n",
       " '5',\n",
       " '5',\n",
       " '5',\n",
       " '5',\n",
       " '5',\n",
       " '5',\n",
       " '5',\n",
       " '5',\n",
       " '5',\n",
       " '5',\n",
       " '5',\n",
       " '5',\n",
       " '5',\n",
       " '5',\n",
       " '5',\n",
       " '5',\n",
       " '5',\n",
       " '5',\n",
       " '5',\n",
       " '5',\n",
       " '5',\n",
       " '5',\n",
       " '5',\n",
       " '5',\n",
       " '5',\n",
       " '5',\n",
       " '5',\n",
       " '5',\n",
       " '5',\n",
       " '5',\n",
       " '5',\n",
       " '5',\n",
       " '5',\n",
       " '5',\n",
       " '5',\n",
       " '5',\n",
       " '5',\n",
       " '5',\n",
       " '5',\n",
       " '5',\n",
       " '5',\n",
       " '5',\n",
       " '5',\n",
       " '5',\n",
       " '5',\n",
       " '5',\n",
       " '5',\n",
       " '5',\n",
       " '5',\n",
       " '5',\n",
       " '5',\n",
       " '5',\n",
       " '5',\n",
       " '5',\n",
       " '5',\n",
       " '5',\n",
       " '5',\n",
       " '5',\n",
       " '5',\n",
       " '5',\n",
       " '5',\n",
       " '5',\n",
       " '5',\n",
       " '5',\n",
       " '5',\n",
       " '5',\n",
       " '5']"
      ]
     },
     "execution_count": 109,
     "metadata": {},
     "output_type": "execute_result"
    }
   ],
   "source": [
    "RATING[0:100]"
   ]
  },
  {
   "cell_type": "code",
   "execution_count": 110,
   "id": "cdde5166",
   "metadata": {},
   "outputs": [
    {
     "ename": "ValueError",
     "evalue": "All arrays must be of the same length",
     "output_type": "error",
     "traceback": [
      "\u001b[1;31m---------------------------------------------------------------------------\u001b[0m",
      "\u001b[1;31mValueError\u001b[0m                                Traceback (most recent call last)",
      "Cell \u001b[1;32mIn[110], line 2\u001b[0m\n\u001b[0;32m      1\u001b[0m \u001b[38;5;28;01mimport\u001b[39;00m \u001b[38;5;21;01mpandas\u001b[39;00m \u001b[38;5;28;01mas\u001b[39;00m \u001b[38;5;21;01mpd\u001b[39;00m\n\u001b[1;32m----> 2\u001b[0m df\u001b[38;5;241m=\u001b[39m\u001b[43mpd\u001b[49m\u001b[38;5;241;43m.\u001b[39;49m\u001b[43mDataFrame\u001b[49m\u001b[43m(\u001b[49m\u001b[43m{\u001b[49m\u001b[38;5;124;43m'\u001b[39;49m\u001b[38;5;124;43mReview\u001b[39;49m\u001b[38;5;124;43m'\u001b[39;49m\u001b[43m:\u001b[49m\u001b[43mREVIEW\u001b[49m\u001b[43m,\u001b[49m\u001b[38;5;124;43m'\u001b[39;49m\u001b[38;5;124;43mDetailReview\u001b[39;49m\u001b[38;5;124;43m'\u001b[39;49m\u001b[43m:\u001b[49m\u001b[43mDETAIL_REVIEW\u001b[49m\u001b[43m,\u001b[49m\u001b[38;5;124;43m'\u001b[39;49m\u001b[38;5;124;43mRATINGS\u001b[39;49m\u001b[38;5;124;43m'\u001b[39;49m\u001b[43m:\u001b[49m\u001b[43mRATING\u001b[49m\u001b[43m}\u001b[49m\u001b[43m)\u001b[49m\n\u001b[0;32m      3\u001b[0m df\n",
      "File \u001b[1;32m~\\anaconda3\\lib\\site-packages\\pandas\\core\\frame.py:664\u001b[0m, in \u001b[0;36mDataFrame.__init__\u001b[1;34m(self, data, index, columns, dtype, copy)\u001b[0m\n\u001b[0;32m    658\u001b[0m     mgr \u001b[38;5;241m=\u001b[39m \u001b[38;5;28mself\u001b[39m\u001b[38;5;241m.\u001b[39m_init_mgr(\n\u001b[0;32m    659\u001b[0m         data, axes\u001b[38;5;241m=\u001b[39m{\u001b[38;5;124m\"\u001b[39m\u001b[38;5;124mindex\u001b[39m\u001b[38;5;124m\"\u001b[39m: index, \u001b[38;5;124m\"\u001b[39m\u001b[38;5;124mcolumns\u001b[39m\u001b[38;5;124m\"\u001b[39m: columns}, dtype\u001b[38;5;241m=\u001b[39mdtype, copy\u001b[38;5;241m=\u001b[39mcopy\n\u001b[0;32m    660\u001b[0m     )\n\u001b[0;32m    662\u001b[0m \u001b[38;5;28;01melif\u001b[39;00m \u001b[38;5;28misinstance\u001b[39m(data, \u001b[38;5;28mdict\u001b[39m):\n\u001b[0;32m    663\u001b[0m     \u001b[38;5;66;03m# GH#38939 de facto copy defaults to False only in non-dict cases\u001b[39;00m\n\u001b[1;32m--> 664\u001b[0m     mgr \u001b[38;5;241m=\u001b[39m \u001b[43mdict_to_mgr\u001b[49m\u001b[43m(\u001b[49m\u001b[43mdata\u001b[49m\u001b[43m,\u001b[49m\u001b[43m \u001b[49m\u001b[43mindex\u001b[49m\u001b[43m,\u001b[49m\u001b[43m \u001b[49m\u001b[43mcolumns\u001b[49m\u001b[43m,\u001b[49m\u001b[43m \u001b[49m\u001b[43mdtype\u001b[49m\u001b[38;5;241;43m=\u001b[39;49m\u001b[43mdtype\u001b[49m\u001b[43m,\u001b[49m\u001b[43m \u001b[49m\u001b[43mcopy\u001b[49m\u001b[38;5;241;43m=\u001b[39;49m\u001b[43mcopy\u001b[49m\u001b[43m,\u001b[49m\u001b[43m \u001b[49m\u001b[43mtyp\u001b[49m\u001b[38;5;241;43m=\u001b[39;49m\u001b[43mmanager\u001b[49m\u001b[43m)\u001b[49m\n\u001b[0;32m    665\u001b[0m \u001b[38;5;28;01melif\u001b[39;00m \u001b[38;5;28misinstance\u001b[39m(data, ma\u001b[38;5;241m.\u001b[39mMaskedArray):\n\u001b[0;32m    666\u001b[0m     \u001b[38;5;28;01mimport\u001b[39;00m \u001b[38;5;21;01mnumpy\u001b[39;00m\u001b[38;5;21;01m.\u001b[39;00m\u001b[38;5;21;01mma\u001b[39;00m\u001b[38;5;21;01m.\u001b[39;00m\u001b[38;5;21;01mmrecords\u001b[39;00m \u001b[38;5;28;01mas\u001b[39;00m \u001b[38;5;21;01mmrecords\u001b[39;00m\n",
      "File \u001b[1;32m~\\anaconda3\\lib\\site-packages\\pandas\\core\\internals\\construction.py:493\u001b[0m, in \u001b[0;36mdict_to_mgr\u001b[1;34m(data, index, columns, dtype, typ, copy)\u001b[0m\n\u001b[0;32m    489\u001b[0m     \u001b[38;5;28;01melse\u001b[39;00m:\n\u001b[0;32m    490\u001b[0m         \u001b[38;5;66;03m# dtype check to exclude e.g. range objects, scalars\u001b[39;00m\n\u001b[0;32m    491\u001b[0m         arrays \u001b[38;5;241m=\u001b[39m [x\u001b[38;5;241m.\u001b[39mcopy() \u001b[38;5;28;01mif\u001b[39;00m \u001b[38;5;28mhasattr\u001b[39m(x, \u001b[38;5;124m\"\u001b[39m\u001b[38;5;124mdtype\u001b[39m\u001b[38;5;124m\"\u001b[39m) \u001b[38;5;28;01melse\u001b[39;00m x \u001b[38;5;28;01mfor\u001b[39;00m x \u001b[38;5;129;01min\u001b[39;00m arrays]\n\u001b[1;32m--> 493\u001b[0m \u001b[38;5;28;01mreturn\u001b[39;00m \u001b[43marrays_to_mgr\u001b[49m\u001b[43m(\u001b[49m\u001b[43marrays\u001b[49m\u001b[43m,\u001b[49m\u001b[43m \u001b[49m\u001b[43mcolumns\u001b[49m\u001b[43m,\u001b[49m\u001b[43m \u001b[49m\u001b[43mindex\u001b[49m\u001b[43m,\u001b[49m\u001b[43m \u001b[49m\u001b[43mdtype\u001b[49m\u001b[38;5;241;43m=\u001b[39;49m\u001b[43mdtype\u001b[49m\u001b[43m,\u001b[49m\u001b[43m \u001b[49m\u001b[43mtyp\u001b[49m\u001b[38;5;241;43m=\u001b[39;49m\u001b[43mtyp\u001b[49m\u001b[43m,\u001b[49m\u001b[43m \u001b[49m\u001b[43mconsolidate\u001b[49m\u001b[38;5;241;43m=\u001b[39;49m\u001b[43mcopy\u001b[49m\u001b[43m)\u001b[49m\n",
      "File \u001b[1;32m~\\anaconda3\\lib\\site-packages\\pandas\\core\\internals\\construction.py:118\u001b[0m, in \u001b[0;36marrays_to_mgr\u001b[1;34m(arrays, columns, index, dtype, verify_integrity, typ, consolidate)\u001b[0m\n\u001b[0;32m    115\u001b[0m \u001b[38;5;28;01mif\u001b[39;00m verify_integrity:\n\u001b[0;32m    116\u001b[0m     \u001b[38;5;66;03m# figure out the index, if necessary\u001b[39;00m\n\u001b[0;32m    117\u001b[0m     \u001b[38;5;28;01mif\u001b[39;00m index \u001b[38;5;129;01mis\u001b[39;00m \u001b[38;5;28;01mNone\u001b[39;00m:\n\u001b[1;32m--> 118\u001b[0m         index \u001b[38;5;241m=\u001b[39m \u001b[43m_extract_index\u001b[49m\u001b[43m(\u001b[49m\u001b[43marrays\u001b[49m\u001b[43m)\u001b[49m\n\u001b[0;32m    119\u001b[0m     \u001b[38;5;28;01melse\u001b[39;00m:\n\u001b[0;32m    120\u001b[0m         index \u001b[38;5;241m=\u001b[39m ensure_index(index)\n",
      "File \u001b[1;32m~\\anaconda3\\lib\\site-packages\\pandas\\core\\internals\\construction.py:666\u001b[0m, in \u001b[0;36m_extract_index\u001b[1;34m(data)\u001b[0m\n\u001b[0;32m    664\u001b[0m lengths \u001b[38;5;241m=\u001b[39m \u001b[38;5;28mlist\u001b[39m(\u001b[38;5;28mset\u001b[39m(raw_lengths))\n\u001b[0;32m    665\u001b[0m \u001b[38;5;28;01mif\u001b[39;00m \u001b[38;5;28mlen\u001b[39m(lengths) \u001b[38;5;241m>\u001b[39m \u001b[38;5;241m1\u001b[39m:\n\u001b[1;32m--> 666\u001b[0m     \u001b[38;5;28;01mraise\u001b[39;00m \u001b[38;5;167;01mValueError\u001b[39;00m(\u001b[38;5;124m\"\u001b[39m\u001b[38;5;124mAll arrays must be of the same length\u001b[39m\u001b[38;5;124m\"\u001b[39m)\n\u001b[0;32m    668\u001b[0m \u001b[38;5;28;01mif\u001b[39;00m have_dicts:\n\u001b[0;32m    669\u001b[0m     \u001b[38;5;28;01mraise\u001b[39;00m \u001b[38;5;167;01mValueError\u001b[39;00m(\n\u001b[0;32m    670\u001b[0m         \u001b[38;5;124m\"\u001b[39m\u001b[38;5;124mMixing dicts with non-Series may lead to ambiguous ordering.\u001b[39m\u001b[38;5;124m\"\u001b[39m\n\u001b[0;32m    671\u001b[0m     )\n",
      "\u001b[1;31mValueError\u001b[0m: All arrays must be of the same length"
     ]
    }
   ],
   "source": [
    "import pandas as pd\n",
    "df=pd.DataFrame({'Review':REVIEW,'DetailReview':DETAIL_REVIEW,'RATINGS':RATING})\n",
    "df"
   ]
  },
  {
   "cell_type": "code",
   "execution_count": 111,
   "id": "0127be71",
   "metadata": {},
   "outputs": [
    {
     "data": {
      "text/plain": [
       "(110, 71, 70)"
      ]
     },
     "execution_count": 111,
     "metadata": {},
     "output_type": "execute_result"
    }
   ],
   "source": [
    "len(REVIEW),len(DETAIL_REVIEW),len(RATING)"
   ]
  },
  {
   "cell_type": "code",
   "execution_count": null,
   "id": "3bb7b6a3",
   "metadata": {},
   "outputs": [],
   "source": []
  }
 ],
 "metadata": {
  "kernelspec": {
   "display_name": "Python 3 (ipykernel)",
   "language": "python",
   "name": "python3"
  },
  "language_info": {
   "codemirror_mode": {
    "name": "ipython",
    "version": 3
   },
   "file_extension": ".py",
   "mimetype": "text/x-python",
   "name": "python",
   "nbconvert_exporter": "python",
   "pygments_lexer": "ipython3",
   "version": "3.10.9"
  }
 },
 "nbformat": 4,
 "nbformat_minor": 5
}
